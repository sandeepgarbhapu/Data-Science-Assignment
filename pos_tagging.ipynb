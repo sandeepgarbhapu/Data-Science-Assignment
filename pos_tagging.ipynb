{
 "cells": [
  {
   "cell_type": "code",
   "execution_count": 1,
   "metadata": {},
   "outputs": [],
   "source": [
    "import numpy as np\n",
    "import pandas as pd\n",
    "import json"
   ]
  },
  {
   "cell_type": "code",
   "execution_count": 2,
   "metadata": {},
   "outputs": [
    {
     "data": {
      "text/plain": [
       "'/Users/sandynipun'"
      ]
     },
     "execution_count": 2,
     "metadata": {},
     "output_type": "execute_result"
    }
   ],
   "source": [
    "pwd"
   ]
  },
  {
   "cell_type": "code",
   "execution_count": 3,
   "metadata": {},
   "outputs": [
    {
     "name": "stdout",
     "output_type": "stream",
     "text": [
      "/Users/sandynipun/Downloads\n"
     ]
    }
   ],
   "source": [
    "cd /Users/sandynipun/Downloads"
   ]
  },
  {
   "cell_type": "code",
   "execution_count": 4,
   "metadata": {},
   "outputs": [],
   "source": [
    "import json\n",
    "with open('/Users/sandynipun/Downloads/dfd/news_0000001.json') as f:\n",
    "    data=json.load(f)"
   ]
  },
  {
   "cell_type": "code",
   "execution_count": 5,
   "metadata": {},
   "outputs": [
    {
     "data": {
      "text/plain": [
       "{'organizations': [],\n",
       " 'uuid': 'd9d6ac40504a0ea49a4c96644c48df8587270ee5',\n",
       " 'thread': {'social': {'gplus': {'shares': 0},\n",
       "   'pinterest': {'shares': 0},\n",
       "   'vk': {'shares': 0},\n",
       "   'linkedin': {'shares': 0},\n",
       "   'facebook': {'likes': 0, 'shares': 0, 'comments': 0},\n",
       "   'stumbledupon': {'shares': 0}},\n",
       "  'site_full': 'www.whatech.com',\n",
       "  'main_image': '',\n",
       "  'site_section': 'http://www.whatech.com/?format=feed&type=rss',\n",
       "  'section_title': 'WhaTech -  Technology News | Supplier Sourcing |  Community - WhaTech',\n",
       "  'url': 'https://www.whatech.com/outsourced-it-services/news/100436-lan542-embrace-the-new-age-if-your-workplace-isn-t-digital-your-already-behind-your-competition',\n",
       "  'country': 'AU',\n",
       "  'title': \"Embrace the New age – If your workplace isn’t digital you're already behind your competition\",\n",
       "  'performance_score': 0,\n",
       "  'site': 'whatech.com',\n",
       "  'participants_count': 1,\n",
       "  'title_full': \"Embrace the New age – If your workplace isn’t digital you're already behind your competition\",\n",
       "  'spam_score': 0.0,\n",
       "  'site_type': 'news',\n",
       "  'published': '2015-10-12T07:04:00.000+03:00',\n",
       "  'replies_count': 0,\n",
       "  'uuid': 'd9d6ac40504a0ea49a4c96644c48df8587270ee5'},\n",
       " 'author': 'webmaster@whatech.com.au (Stern Curator)',\n",
       " 'url': 'https://www.whatech.com/outsourced-it-services/news/100436-lan542-embrace-the-new-age-if-your-workplace-isn-t-digital-your-already-behind-your-competition',\n",
       " 'ord_in_thread': 0,\n",
       " 'title': \"Embrace the New age – If your workplace isn’t digital you're already behind your competition\",\n",
       " 'locations': [],\n",
       " 'entities': {'persons': [], 'locations': [], 'organizations': []},\n",
       " 'highlightText': '',\n",
       " 'language': 'english',\n",
       " 'persons': [],\n",
       " 'text': \"Published on Monday, 12 October 2015 15:04 Submitted by Stern Curator Page views: 61 times So what are the characteristics of a digital workplace? Strategy& (an arm of PricewaterhouseCoopers) sums it up in just three words, in the title of its report Designing the digital workplace. Connectivity, communication, collaboration . In other words, a digital workplace employs digital technology to ensure that those three functions are as seamless, efficient and easy to use as the technology permits. Strategy& expands these three broad features into five elements, which make up the digital office framework: access devices, communications infrastructure, business applications, the workplace environment, and digital security. And make no mistake, a digital workplace is not merely a ‘nice to have’. It’s an essential precursor to success into today’s digitally disrupted business environment. As Strategy& says in its report, “Companies in every industry are facing real challenges in offering employees the best of the new technologies they need. But those that can see the strategic value of the working environment, and can get in front of the movement to the truly digital workplace, will have a clear advantage in productivity, innovation, and collaboration. That, in turn, will enable them to attract the talent they will need to stay competitive and to align with the social and business transformations taking place around the world.” Closer to home and on a more down to earth level, Australian IT market research company Telsyte released in March its Australian Digital Workplace Study 2015 . It covered “trends in business ICT spending and strategy and how IT and business leaders are preparing for the impact of emerging technologies.” One trend stood out: as organisation move to create a digital workplace a greater portion of IT expenditure will end up in the hands of business units. More than half of the 440 CIOs surveyed by Telsyte said they believe line of business IT spending will exceed central IT spending within five years. Telsyte reported that 79 percent of organisations have at least one line of business – including marketing, operations and finance – with its own IT budget. “This is up five percent from 2014 and shows a growing demand for IT services from areas of the business like marketing,” Telsyte said. “Combine this with more accessible cloud-based applications and the CIO has another information management procurement channel to deal with.” Jodie Korber, MD of Lanrex and Sydney-based Outsourced IT provider describes the importance of a properly managed Digital workplace ‘The digital workplace is the virtual equivalent of the physical workplace, it is a system that needs to be planned and managed coherently as it is a fundamental feature of employees’ productivity, engagement and overall job satisfaction. Managers need to address the opportunity of a digital workplace as a whole coordinating it between technology, processes and most importantly its people.’ About Lanrex \\nOur team are highly experienced in helping businesses get the most out of technology. Consulting, cloud infrastructure and outsourced IT services.Don't waste your budget spend on soon-to-be-obsolete technology that can't evolve with your business. Find out now if your business is cloud ready? In only a few moments find out with our Cloud Ready self-assessment tool\",\n",
       " 'external_links': [],\n",
       " 'published': '2015-10-12T07:04:00.000+03:00',\n",
       " 'crawled': '2015-10-13T20:15:42.100+03:00',\n",
       " 'highlightTitle': ''}"
      ]
     },
     "execution_count": 5,
     "metadata": {},
     "output_type": "execute_result"
    }
   ],
   "source": [
    "data"
   ]
  },
  {
   "cell_type": "code",
   "execution_count": 6,
   "metadata": {},
   "outputs": [
    {
     "data": {
      "text/plain": [
       "dict"
      ]
     },
     "execution_count": 6,
     "metadata": {},
     "output_type": "execute_result"
    }
   ],
   "source": [
    "type(data)"
   ]
  },
  {
   "cell_type": "code",
   "execution_count": 7,
   "metadata": {},
   "outputs": [
    {
     "data": {
      "text/plain": [
       "'{\"organizations\": [], \"uuid\": \"d9d6ac40504a0ea49a4c96644c48df8587270ee5\", \"thread\": {\"social\": {\"gplus\": {\"shares\": 0}, \"pinterest\": {\"shares\": 0}, \"vk\": {\"shares\": 0}, \"linkedin\": {\"shares\": 0}, \"facebook\": {\"likes\": 0, \"shares\": 0, \"comments\": 0}, \"stumbledupon\": {\"shares\": 0}}, \"site_full\": \"www.whatech.com\", \"main_image\": \"\", \"site_section\": \"http://www.whatech.com/?format=feed&type=rss\", \"section_title\": \"WhaTech -  Technology News | Supplier Sourcing |  Community - WhaTech\", \"url\": \"https://www.whatech.com/outsourced-it-services/news/100436-lan542-embrace-the-new-age-if-your-workplace-isn-t-digital-your-already-behind-your-competition\", \"country\": \"AU\", \"title\": \"Embrace the New age – If your workplace isn’t digital you\\'re already behind your competition\", \"performance_score\": 0, \"site\": \"whatech.com\", \"participants_count\": 1, \"title_full\": \"Embrace the New age – If your workplace isn’t digital you\\'re already behind your competition\", \"spam_score\": 0.0, \"site_type\": \"news\", \"published\": \"2015-10-12T07:04:00.000+03:00\", \"replies_count\": 0, \"uuid\": \"d9d6ac40504a0ea49a4c96644c48df8587270ee5\"}, \"author\": \"webmaster@whatech.com.au (Stern Curator)\", \"url\": \"https://www.whatech.com/outsourced-it-services/news/100436-lan542-embrace-the-new-age-if-your-workplace-isn-t-digital-your-already-behind-your-competition\", \"ord_in_thread\": 0, \"title\": \"Embrace the New age – If your workplace isn’t digital you\\'re already behind your competition\", \"locations\": [], \"entities\": {\"persons\": [], \"locations\": [], \"organizations\": []}, \"highlightText\": \"\", \"language\": \"english\", \"persons\": [], \"text\": \"Published on Monday, 12 October 2015 15:04 Submitted by Stern Curator Page views: 61 times So what are the characteristics of a digital workplace? Strategy& (an arm of PricewaterhouseCoopers) sums it up in just three words, in the title of its report Designing the digital workplace. Connectivity, communication, collaboration . In other words, a digital workplace employs digital technology to ensure that those three functions are as seamless, efficient and easy to use as the technology permits. Strategy& expands these three broad features into five elements, which make up the digital office framework: access devices, communications infrastructure, business applications, the workplace environment, and digital security. And make no mistake, a digital workplace is not merely a ‘nice to have’. It’s an essential precursor to success into today’s digitally disrupted business environment. As Strategy& says in its report, “Companies in every industry are facing real challenges in offering employees the best of the new technologies they need. But those that can see the strategic value of the working environment, and can get in front of the movement to the truly digital workplace, will have a clear advantage in productivity, innovation, and collaboration. That, in turn, will enable them to attract the talent they will need to stay competitive and to align with the social and business transformations taking place around the world.” Closer to home and on a more down to earth level, Australian IT market research company Telsyte released in March its Australian Digital Workplace Study 2015 . It covered “trends in business ICT spending and strategy and how IT and business leaders are preparing for the impact of emerging technologies.” One trend stood out: as organisation move to create a digital workplace a greater portion of IT expenditure will end up in the hands of business units. More than half of the 440 CIOs surveyed by Telsyte said they believe line of business IT spending will exceed central IT spending within five years. Telsyte reported that 79 percent of organisations have at least one line of business – including marketing, operations and finance – with its own IT budget. “This is up five percent from 2014 and shows a growing demand for IT services from areas of the business like marketing,” Telsyte said. “Combine this with more accessible cloud-based applications and the CIO has another information management procurement channel to deal with.” Jodie Korber, MD of Lanrex and Sydney-based Outsourced IT provider describes the importance of a properly managed Digital workplace ‘The digital workplace is the virtual equivalent of the physical workplace, it is a system that needs to be planned and managed coherently as it is a fundamental feature of employees’ productivity, engagement and overall job satisfaction. Managers need to address the opportunity of a digital workplace as a whole coordinating it between technology, processes and most importantly its people.’ About Lanrex \\\\nOur team are highly experienced in helping businesses get the most out of technology. Consulting, cloud infrastructure and outsourced IT services.Don\\'t waste your budget spend on soon-to-be-obsolete technology that can\\'t evolve with your business. Find out now if your business is cloud ready? In only a few moments find out with our Cloud Ready self-assessment tool\", \"external_links\": [], \"published\": \"2015-10-12T07:04:00.000+03:00\", \"crawled\": \"2015-10-13T20:15:42.100+03:00\", \"highlightTitle\": \"\"}'"
      ]
     },
     "execution_count": 7,
     "metadata": {},
     "output_type": "execute_result"
    }
   ],
   "source": [
    "df = json.dumps(data, ensure_ascii=False)\n",
    "\n",
    "df"
   ]
  },
  {
   "cell_type": "code",
   "execution_count": 8,
   "metadata": {},
   "outputs": [
    {
     "data": {
      "text/plain": [
       "str"
      ]
     },
     "execution_count": 8,
     "metadata": {},
     "output_type": "execute_result"
    }
   ],
   "source": [
    "type(df)"
   ]
  },
  {
   "cell_type": "code",
   "execution_count": 9,
   "metadata": {},
   "outputs": [],
   "source": [
    "import re\n",
    "text=re.sub(\"[^A-Za-z ]+\",\"\",df)\n"
   ]
  },
  {
   "cell_type": "code",
   "execution_count": 10,
   "metadata": {},
   "outputs": [
    {
     "data": {
      "text/plain": [
       "'organizations  uuid ddacaeaaccdfee thread social gplus shares  pinterest shares  vk shares  linkedin shares  facebook likes  shares  comments  stumbledupon shares  sitefull wwwwhatechcom mainimage  sitesection httpwwwwhatechcomformatfeedtyperss sectiontitle WhaTech   Technology News  Supplier Sourcing   Community  WhaTech url httpswwwwhatechcomoutsourceditservicesnewslanembracethenewageifyourworkplaceisntdigitalyouralreadybehindyourcompetition country AU title Embrace the New age  If your workplace isnt digital youre already behind your competition performancescore  site whatechcom participantscount  titlefull Embrace the New age  If your workplace isnt digital youre already behind your competition spamscore  sitetype news published T repliescount  uuid ddacaeaaccdfee author webmasterwhatechcomau Stern Curator url httpswwwwhatechcomoutsourceditservicesnewslanembracethenewageifyourworkplaceisntdigitalyouralreadybehindyourcompetition ordinthread  title Embrace the New age  If your workplace isnt digital youre already behind your competition locations  entities persons  locations  organizations  highlightText  language english persons  text Published on Monday  October   Submitted by Stern Curator Page views  times So what are the characteristics of a digital workplace Strategy an arm of PricewaterhouseCoopers sums it up in just three words in the title of its report Designing the digital workplace Connectivity communication collaboration  In other words a digital workplace employs digital technology to ensure that those three functions are as seamless efficient and easy to use as the technology permits Strategy expands these three broad features into five elements which make up the digital office framework access devices communications infrastructure business applications the workplace environment and digital security And make no mistake a digital workplace is not merely a nice to have Its an essential precursor to success into todays digitally disrupted business environment As Strategy says in its report Companies in every industry are facing real challenges in offering employees the best of the new technologies they need But those that can see the strategic value of the working environment and can get in front of the movement to the truly digital workplace will have a clear advantage in productivity innovation and collaboration That in turn will enable them to attract the talent they will need to stay competitive and to align with the social and business transformations taking place around the world Closer to home and on a more down to earth level Australian IT market research company Telsyte released in March its Australian Digital Workplace Study   It covered trends in business ICT spending and strategy and how IT and business leaders are preparing for the impact of emerging technologies One trend stood out as organisation move to create a digital workplace a greater portion of IT expenditure will end up in the hands of business units More than half of the  CIOs surveyed by Telsyte said they believe line of business IT spending will exceed central IT spending within five years Telsyte reported that  percent of organisations have at least one line of business  including marketing operations and finance  with its own IT budget This is up five percent from  and shows a growing demand for IT services from areas of the business like marketing Telsyte said Combine this with more accessible cloudbased applications and the CIO has another information management procurement channel to deal with Jodie Korber MD of Lanrex and Sydneybased Outsourced IT provider describes the importance of a properly managed Digital workplace The digital workplace is the virtual equivalent of the physical workplace it is a system that needs to be planned and managed coherently as it is a fundamental feature of employees productivity engagement and overall job satisfaction Managers need to address the opportunity of a digital workplace as a whole coordinating it between technology processes and most importantly its people About Lanrex nOur team are highly experienced in helping businesses get the most out of technology Consulting cloud infrastructure and outsourced IT servicesDont waste your budget spend on soontobeobsolete technology that cant evolve with your business Find out now if your business is cloud ready In only a few moments find out with our Cloud Ready selfassessment tool externallinks  published T crawled T highlightTitle '"
      ]
     },
     "execution_count": 10,
     "metadata": {},
     "output_type": "execute_result"
    }
   ],
   "source": [
    "text"
   ]
  },
  {
   "cell_type": "code",
   "execution_count": 11,
   "metadata": {
    "scrolled": true
   },
   "outputs": [
    {
     "name": "stdout",
     "output_type": "stream",
     "text": [
      "['organizations', 'uuid', 'ddacaeaaccdfee', 'thread', 'social', 'gplus', 'shares', 'pinterest', 'shares', 'vk', 'shares', 'linkedin', 'shares', 'facebook', 'likes', 'shares', 'comments', 'stumbledupon', 'shares', 'sitefull', 'wwwwhatechcom', 'mainimage', 'sitesection', 'httpwwwwhatechcomformatfeedtyperss', 'sectiontitle', 'WhaTech', 'Technology', 'News', 'Supplier', 'Sourcing', 'Community', 'WhaTech', 'url', 'httpswwwwhatechcomoutsourceditservicesnewslanembracethenewageifyourworkplaceisntdigitalyouralreadybehindyourcompetition', 'country', 'AU', 'title', 'Embrace', 'the', 'New', 'age', 'If', 'your', 'workplace', 'isnt', 'digital', 'youre', 'already', 'behind', 'your', 'competition', 'performancescore', 'site', 'whatechcom', 'participantscount', 'titlefull', 'Embrace', 'the', 'New', 'age', 'If', 'your', 'workplace', 'isnt', 'digital', 'youre', 'already', 'behind', 'your', 'competition', 'spamscore', 'sitetype', 'news', 'published', 'T', 'repliescount', 'uuid', 'ddacaeaaccdfee', 'author', 'webmasterwhatechcomau', 'Stern', 'Curator', 'url', 'httpswwwwhatechcomoutsourceditservicesnewslanembracethenewageifyourworkplaceisntdigitalyouralreadybehindyourcompetition', 'ordinthread', 'title', 'Embrace', 'the', 'New', 'age', 'If', 'your', 'workplace', 'isnt', 'digital', 'youre', 'already', 'behind', 'your', 'competition', 'locations', 'entities', 'persons', 'locations', 'organizations', 'highlightText', 'language', 'english', 'persons', 'text', 'Published', 'on', 'Monday', 'October', 'Submitted', 'by', 'Stern', 'Curator', 'Page', 'views', 'times', 'So', 'what', 'are', 'the', 'characteristics', 'of', 'a', 'digital', 'workplace', 'Strategy', 'an', 'arm', 'of', 'PricewaterhouseCoopers', 'sums', 'it', 'up', 'in', 'just', 'three', 'words', 'in', 'the', 'title', 'of', 'its', 'report', 'Designing', 'the', 'digital', 'workplace', 'Connectivity', 'communication', 'collaboration', 'In', 'other', 'words', 'a', 'digital', 'workplace', 'employs', 'digital', 'technology', 'to', 'ensure', 'that', 'those', 'three', 'functions', 'are', 'as', 'seamless', 'efficient', 'and', 'easy', 'to', 'use', 'as', 'the', 'technology', 'permits', 'Strategy', 'expands', 'these', 'three', 'broad', 'features', 'into', 'five', 'elements', 'which', 'make', 'up', 'the', 'digital', 'office', 'framework', 'access', 'devices', 'communications', 'infrastructure', 'business', 'applications', 'the', 'workplace', 'environment', 'and', 'digital', 'security', 'And', 'make', 'no', 'mistake', 'a', 'digital', 'workplace', 'is', 'not', 'merely', 'a', 'nice', 'to', 'have', 'Its', 'an', 'essential', 'precursor', 'to', 'success', 'into', 'todays', 'digitally', 'disrupted', 'business', 'environment', 'As', 'Strategy', 'says', 'in', 'its', 'report', 'Companies', 'in', 'every', 'industry', 'are', 'facing', 'real', 'challenges', 'in', 'offering', 'employees', 'the', 'best', 'of', 'the', 'new', 'technologies', 'they', 'need', 'But', 'those', 'that', 'can', 'see', 'the', 'strategic', 'value', 'of', 'the', 'working', 'environment', 'and', 'can', 'get', 'in', 'front', 'of', 'the', 'movement', 'to', 'the', 'truly', 'digital', 'workplace', 'will', 'have', 'a', 'clear', 'advantage', 'in', 'productivity', 'innovation', 'and', 'collaboration', 'That', 'in', 'turn', 'will', 'enable', 'them', 'to', 'attract', 'the', 'talent', 'they', 'will', 'need', 'to', 'stay', 'competitive', 'and', 'to', 'align', 'with', 'the', 'social', 'and', 'business', 'transformations', 'taking', 'place', 'around', 'the', 'world', 'Closer', 'to', 'home', 'and', 'on', 'a', 'more', 'down', 'to', 'earth', 'level', 'Australian', 'IT', 'market', 'research', 'company', 'Telsyte', 'released', 'in', 'March', 'its', 'Australian', 'Digital', 'Workplace', 'Study', 'It', 'covered', 'trends', 'in', 'business', 'ICT', 'spending', 'and', 'strategy', 'and', 'how', 'IT', 'and', 'business', 'leaders', 'are', 'preparing', 'for', 'the', 'impact', 'of', 'emerging', 'technologies', 'One', 'trend', 'stood', 'out', 'as', 'organisation', 'move', 'to', 'create', 'a', 'digital', 'workplace', 'a', 'greater', 'portion', 'of', 'IT', 'expenditure', 'will', 'end', 'up', 'in', 'the', 'hands', 'of', 'business', 'units', 'More', 'than', 'half', 'of', 'the', 'CIOs', 'surveyed', 'by', 'Telsyte', 'said', 'they', 'believe', 'line', 'of', 'business', 'IT', 'spending', 'will', 'exceed', 'central', 'IT', 'spending', 'within', 'five', 'years', 'Telsyte', 'reported', 'that', 'percent', 'of', 'organisations', 'have', 'at', 'least', 'one', 'line', 'of', 'business', 'including', 'marketing', 'operations', 'and', 'finance', 'with', 'its', 'own', 'IT', 'budget', 'This', 'is', 'up', 'five', 'percent', 'from', 'and', 'shows', 'a', 'growing', 'demand', 'for', 'IT', 'services', 'from', 'areas', 'of', 'the', 'business', 'like', 'marketing', 'Telsyte', 'said', 'Combine', 'this', 'with', 'more', 'accessible', 'cloudbased', 'applications', 'and', 'the', 'CIO', 'has', 'another', 'information', 'management', 'procurement', 'channel', 'to', 'deal', 'with', 'Jodie', 'Korber', 'MD', 'of', 'Lanrex', 'and', 'Sydneybased', 'Outsourced', 'IT', 'provider', 'describes', 'the', 'importance', 'of', 'a', 'properly', 'managed', 'Digital', 'workplace', 'The', 'digital', 'workplace', 'is', 'the', 'virtual', 'equivalent', 'of', 'the', 'physical', 'workplace', 'it', 'is', 'a', 'system', 'that', 'needs', 'to', 'be', 'planned', 'and', 'managed', 'coherently', 'as', 'it', 'is', 'a', 'fundamental', 'feature', 'of', 'employees', 'productivity', 'engagement', 'and', 'overall', 'job', 'satisfaction', 'Managers', 'need', 'to', 'address', 'the', 'opportunity', 'of', 'a', 'digital', 'workplace', 'as', 'a', 'whole', 'coordinating', 'it', 'between', 'technology', 'processes', 'and', 'most', 'importantly', 'its', 'people', 'About', 'Lanrex', 'nOur', 'team', 'are', 'highly', 'experienced', 'in', 'helping', 'businesses', 'get', 'the', 'most', 'out', 'of', 'technology', 'Consulting', 'cloud', 'infrastructure', 'and', 'outsourced', 'IT', 'servicesDont', 'waste', 'your', 'budget', 'spend', 'on', 'soontobeobsolete', 'technology', 'that', 'cant', 'evolve', 'with', 'your', 'business', 'Find', 'out', 'now', 'if', 'your', 'business', 'is', 'cloud', 'ready', 'In', 'only', 'a', 'few', 'moments', 'find', 'out', 'with', 'our', 'Cloud', 'Ready', 'selfassessment', 'tool', 'externallinks', 'published', 'T', 'crawled', 'T', 'highlightTitle']\n"
     ]
    }
   ],
   "source": [
    "from nltk.tokenize import word_tokenize\n",
    "tokenized_word=word_tokenize(text)\n",
    "print(tokenized_word)"
   ]
  },
  {
   "cell_type": "code",
   "execution_count": 12,
   "metadata": {},
   "outputs": [
    {
     "name": "stdout",
     "output_type": "stream",
     "text": [
      "<FreqDist with 348 samples and 634 outcomes>\n"
     ]
    }
   ],
   "source": [
    "from nltk.probability import FreqDist\n",
    "fdist = FreqDist(tokenized_word)\n",
    "print(fdist)"
   ]
  },
  {
   "cell_type": "code",
   "execution_count": 13,
   "metadata": {
    "scrolled": true
   },
   "outputs": [
    {
     "name": "stdout",
     "output_type": "stream",
     "text": [
      "{'for', 'as', 'is', 'being', \"shan't\", 'other', 'again', 'doesn', 'this', 'only', 'both', 'doing', 'between', 'by', 'yours', 'most', \"you'll\", 'should', 'such', 'when', 'does', 'o', 'while', 'any', \"isn't\", 'wasn', \"haven't\", 'his', \"couldn't\", 'they', 'do', 'few', 'you', \"mightn't\", 'were', 'she', 'who', 'here', 'her', 'all', \"mustn't\", 'isn', \"weren't\", 'them', 'the', 'in', 'himself', 'themselves', 'too', 'on', 'ma', 'very', 'during', \"you're\", 'hadn', 's', 'didn', 'ain', 't', 'about', 'above', \"she's\", 'its', 'mustn', 'with', 'own', 'after', 'theirs', \"should've\", \"hadn't\", 'mightn', 'shan', 'herself', 'did', \"didn't\", 'can', 'until', 'there', 'where', 'of', 'we', 'don', 'our', 'having', 'from', 'him', 'through', 'aren', 'why', 'i', 'to', 'y', 'wouldn', 'a', 'which', 'but', 'against', 'll', 'couldn', \"won't\", 'below', \"needn't\", 'd', 'haven', \"shouldn't\", 'if', 'won', 'before', \"aren't\", \"it's\", \"you've\", 'what', \"you'd\", 'yourself', 'under', 'my', 'whom', 'ours', 'same', 'hers', 'it', 'those', 'are', 'than', 'myself', 'has', 've', 'off', 'or', 'each', 'shouldn', 'and', 're', 'me', 'these', \"doesn't\", 'no', 'because', 'now', 'into', 'itself', 'had', 'more', \"don't\", 'how', 'be', 'over', 'have', 'nor', 'your', 'so', 'he', 'not', 'needn', 'been', 'was', 'down', 'an', 'some', 'yourselves', 'that', 'am', \"wasn't\", \"wouldn't\", 'will', 'further', 'm', 'just', 'ourselves', \"that'll\", 'weren', 'once', 'up', 'then', \"hasn't\", 'at', 'their', 'out', 'hasn'}\n"
     ]
    }
   ],
   "source": [
    "from nltk.corpus import stopwords\n",
    "stop_words=set(stopwords.words(\"english\"))\n",
    "print(stop_words)"
   ]
  },
  {
   "cell_type": "code",
   "execution_count": 14,
   "metadata": {},
   "outputs": [
    {
     "name": "stdout",
     "output_type": "stream",
     "text": [
      "Tokenized Sentence: ['organizations', 'uuid', 'ddacaeaaccdfee', 'thread', 'social', 'gplus', 'shares', 'pinterest', 'shares', 'vk', 'shares', 'linkedin', 'shares', 'facebook', 'likes', 'shares', 'comments', 'stumbledupon', 'shares', 'sitefull', 'wwwwhatechcom', 'mainimage', 'sitesection', 'httpwwwwhatechcomformatfeedtyperss', 'sectiontitle', 'WhaTech', 'Technology', 'News', 'Supplier', 'Sourcing', 'Community', 'WhaTech', 'url', 'httpswwwwhatechcomoutsourceditservicesnewslanembracethenewageifyourworkplaceisntdigitalyouralreadybehindyourcompetition', 'country', 'AU', 'title', 'Embrace', 'the', 'New', 'age', 'If', 'your', 'workplace', 'isnt', 'digital', 'youre', 'already', 'behind', 'your', 'competition', 'performancescore', 'site', 'whatechcom', 'participantscount', 'titlefull', 'Embrace', 'the', 'New', 'age', 'If', 'your', 'workplace', 'isnt', 'digital', 'youre', 'already', 'behind', 'your', 'competition', 'spamscore', 'sitetype', 'news', 'published', 'T', 'repliescount', 'uuid', 'ddacaeaaccdfee', 'author', 'webmasterwhatechcomau', 'Stern', 'Curator', 'url', 'httpswwwwhatechcomoutsourceditservicesnewslanembracethenewageifyourworkplaceisntdigitalyouralreadybehindyourcompetition', 'ordinthread', 'title', 'Embrace', 'the', 'New', 'age', 'If', 'your', 'workplace', 'isnt', 'digital', 'youre', 'already', 'behind', 'your', 'competition', 'locations', 'entities', 'persons', 'locations', 'organizations', 'highlightText', 'language', 'english', 'persons', 'text', 'Published', 'on', 'Monday', 'October', 'Submitted', 'by', 'Stern', 'Curator', 'Page', 'views', 'times', 'So', 'what', 'are', 'the', 'characteristics', 'of', 'a', 'digital', 'workplace', 'Strategy', 'an', 'arm', 'of', 'PricewaterhouseCoopers', 'sums', 'it', 'up', 'in', 'just', 'three', 'words', 'in', 'the', 'title', 'of', 'its', 'report', 'Designing', 'the', 'digital', 'workplace', 'Connectivity', 'communication', 'collaboration', 'In', 'other', 'words', 'a', 'digital', 'workplace', 'employs', 'digital', 'technology', 'to', 'ensure', 'that', 'those', 'three', 'functions', 'are', 'as', 'seamless', 'efficient', 'and', 'easy', 'to', 'use', 'as', 'the', 'technology', 'permits', 'Strategy', 'expands', 'these', 'three', 'broad', 'features', 'into', 'five', 'elements', 'which', 'make', 'up', 'the', 'digital', 'office', 'framework', 'access', 'devices', 'communications', 'infrastructure', 'business', 'applications', 'the', 'workplace', 'environment', 'and', 'digital', 'security', 'And', 'make', 'no', 'mistake', 'a', 'digital', 'workplace', 'is', 'not', 'merely', 'a', 'nice', 'to', 'have', 'Its', 'an', 'essential', 'precursor', 'to', 'success', 'into', 'todays', 'digitally', 'disrupted', 'business', 'environment', 'As', 'Strategy', 'says', 'in', 'its', 'report', 'Companies', 'in', 'every', 'industry', 'are', 'facing', 'real', 'challenges', 'in', 'offering', 'employees', 'the', 'best', 'of', 'the', 'new', 'technologies', 'they', 'need', 'But', 'those', 'that', 'can', 'see', 'the', 'strategic', 'value', 'of', 'the', 'working', 'environment', 'and', 'can', 'get', 'in', 'front', 'of', 'the', 'movement', 'to', 'the', 'truly', 'digital', 'workplace', 'will', 'have', 'a', 'clear', 'advantage', 'in', 'productivity', 'innovation', 'and', 'collaboration', 'That', 'in', 'turn', 'will', 'enable', 'them', 'to', 'attract', 'the', 'talent', 'they', 'will', 'need', 'to', 'stay', 'competitive', 'and', 'to', 'align', 'with', 'the', 'social', 'and', 'business', 'transformations', 'taking', 'place', 'around', 'the', 'world', 'Closer', 'to', 'home', 'and', 'on', 'a', 'more', 'down', 'to', 'earth', 'level', 'Australian', 'IT', 'market', 'research', 'company', 'Telsyte', 'released', 'in', 'March', 'its', 'Australian', 'Digital', 'Workplace', 'Study', 'It', 'covered', 'trends', 'in', 'business', 'ICT', 'spending', 'and', 'strategy', 'and', 'how', 'IT', 'and', 'business', 'leaders', 'are', 'preparing', 'for', 'the', 'impact', 'of', 'emerging', 'technologies', 'One', 'trend', 'stood', 'out', 'as', 'organisation', 'move', 'to', 'create', 'a', 'digital', 'workplace', 'a', 'greater', 'portion', 'of', 'IT', 'expenditure', 'will', 'end', 'up', 'in', 'the', 'hands', 'of', 'business', 'units', 'More', 'than', 'half', 'of', 'the', 'CIOs', 'surveyed', 'by', 'Telsyte', 'said', 'they', 'believe', 'line', 'of', 'business', 'IT', 'spending', 'will', 'exceed', 'central', 'IT', 'spending', 'within', 'five', 'years', 'Telsyte', 'reported', 'that', 'percent', 'of', 'organisations', 'have', 'at', 'least', 'one', 'line', 'of', 'business', 'including', 'marketing', 'operations', 'and', 'finance', 'with', 'its', 'own', 'IT', 'budget', 'This', 'is', 'up', 'five', 'percent', 'from', 'and', 'shows', 'a', 'growing', 'demand', 'for', 'IT', 'services', 'from', 'areas', 'of', 'the', 'business', 'like', 'marketing', 'Telsyte', 'said', 'Combine', 'this', 'with', 'more', 'accessible', 'cloudbased', 'applications', 'and', 'the', 'CIO', 'has', 'another', 'information', 'management', 'procurement', 'channel', 'to', 'deal', 'with', 'Jodie', 'Korber', 'MD', 'of', 'Lanrex', 'and', 'Sydneybased', 'Outsourced', 'IT', 'provider', 'describes', 'the', 'importance', 'of', 'a', 'properly', 'managed', 'Digital', 'workplace', 'The', 'digital', 'workplace', 'is', 'the', 'virtual', 'equivalent', 'of', 'the', 'physical', 'workplace', 'it', 'is', 'a', 'system', 'that', 'needs', 'to', 'be', 'planned', 'and', 'managed', 'coherently', 'as', 'it', 'is', 'a', 'fundamental', 'feature', 'of', 'employees', 'productivity', 'engagement', 'and', 'overall', 'job', 'satisfaction', 'Managers', 'need', 'to', 'address', 'the', 'opportunity', 'of', 'a', 'digital', 'workplace', 'as', 'a', 'whole', 'coordinating', 'it', 'between', 'technology', 'processes', 'and', 'most', 'importantly', 'its', 'people', 'About', 'Lanrex', 'nOur', 'team', 'are', 'highly', 'experienced', 'in', 'helping', 'businesses', 'get', 'the', 'most', 'out', 'of', 'technology', 'Consulting', 'cloud', 'infrastructure', 'and', 'outsourced', 'IT', 'servicesDont', 'waste', 'your', 'budget', 'spend', 'on', 'soontobeobsolete', 'technology', 'that', 'cant', 'evolve', 'with', 'your', 'business', 'Find', 'out', 'now', 'if', 'your', 'business', 'is', 'cloud', 'ready', 'In', 'only', 'a', 'few', 'moments', 'find', 'out', 'with', 'our', 'Cloud', 'Ready', 'selfassessment', 'tool', 'externallinks', 'published', 'T', 'crawled', 'T', 'highlightTitle']\n",
      "Filterd Sentence: ['organizations', 'uuid', 'ddacaeaaccdfee', 'thread', 'social', 'gplus', 'shares', 'pinterest', 'shares', 'vk', 'shares', 'linkedin', 'shares', 'facebook', 'likes', 'shares', 'comments', 'stumbledupon', 'shares', 'sitefull', 'wwwwhatechcom', 'mainimage', 'sitesection', 'httpwwwwhatechcomformatfeedtyperss', 'sectiontitle', 'WhaTech', 'Technology', 'News', 'Supplier', 'Sourcing', 'Community', 'WhaTech', 'url', 'httpswwwwhatechcomoutsourceditservicesnewslanembracethenewageifyourworkplaceisntdigitalyouralreadybehindyourcompetition', 'country', 'AU', 'title', 'Embrace', 'New', 'age', 'If', 'workplace', 'isnt', 'digital', 'youre', 'already', 'behind', 'competition', 'performancescore', 'site', 'whatechcom', 'participantscount', 'titlefull', 'Embrace', 'New', 'age', 'If', 'workplace', 'isnt', 'digital', 'youre', 'already', 'behind', 'competition', 'spamscore', 'sitetype', 'news', 'published', 'T', 'repliescount', 'uuid', 'ddacaeaaccdfee', 'author', 'webmasterwhatechcomau', 'Stern', 'Curator', 'url', 'httpswwwwhatechcomoutsourceditservicesnewslanembracethenewageifyourworkplaceisntdigitalyouralreadybehindyourcompetition', 'ordinthread', 'title', 'Embrace', 'New', 'age', 'If', 'workplace', 'isnt', 'digital', 'youre', 'already', 'behind', 'competition', 'locations', 'entities', 'persons', 'locations', 'organizations', 'highlightText', 'language', 'english', 'persons', 'text', 'Published', 'Monday', 'October', 'Submitted', 'Stern', 'Curator', 'Page', 'views', 'times', 'So', 'characteristics', 'digital', 'workplace', 'Strategy', 'arm', 'PricewaterhouseCoopers', 'sums', 'three', 'words', 'title', 'report', 'Designing', 'digital', 'workplace', 'Connectivity', 'communication', 'collaboration', 'In', 'words', 'digital', 'workplace', 'employs', 'digital', 'technology', 'ensure', 'three', 'functions', 'seamless', 'efficient', 'easy', 'use', 'technology', 'permits', 'Strategy', 'expands', 'three', 'broad', 'features', 'five', 'elements', 'make', 'digital', 'office', 'framework', 'access', 'devices', 'communications', 'infrastructure', 'business', 'applications', 'workplace', 'environment', 'digital', 'security', 'And', 'make', 'mistake', 'digital', 'workplace', 'merely', 'nice', 'Its', 'essential', 'precursor', 'success', 'todays', 'digitally', 'disrupted', 'business', 'environment', 'As', 'Strategy', 'says', 'report', 'Companies', 'every', 'industry', 'facing', 'real', 'challenges', 'offering', 'employees', 'best', 'new', 'technologies', 'need', 'But', 'see', 'strategic', 'value', 'working', 'environment', 'get', 'front', 'movement', 'truly', 'digital', 'workplace', 'clear', 'advantage', 'productivity', 'innovation', 'collaboration', 'That', 'turn', 'enable', 'attract', 'talent', 'need', 'stay', 'competitive', 'align', 'social', 'business', 'transformations', 'taking', 'place', 'around', 'world', 'Closer', 'home', 'earth', 'level', 'Australian', 'IT', 'market', 'research', 'company', 'Telsyte', 'released', 'March', 'Australian', 'Digital', 'Workplace', 'Study', 'It', 'covered', 'trends', 'business', 'ICT', 'spending', 'strategy', 'IT', 'business', 'leaders', 'preparing', 'impact', 'emerging', 'technologies', 'One', 'trend', 'stood', 'organisation', 'move', 'create', 'digital', 'workplace', 'greater', 'portion', 'IT', 'expenditure', 'end', 'hands', 'business', 'units', 'More', 'half', 'CIOs', 'surveyed', 'Telsyte', 'said', 'believe', 'line', 'business', 'IT', 'spending', 'exceed', 'central', 'IT', 'spending', 'within', 'five', 'years', 'Telsyte', 'reported', 'percent', 'organisations', 'least', 'one', 'line', 'business', 'including', 'marketing', 'operations', 'finance', 'IT', 'budget', 'This', 'five', 'percent', 'shows', 'growing', 'demand', 'IT', 'services', 'areas', 'business', 'like', 'marketing', 'Telsyte', 'said', 'Combine', 'accessible', 'cloudbased', 'applications', 'CIO', 'another', 'information', 'management', 'procurement', 'channel', 'deal', 'Jodie', 'Korber', 'MD', 'Lanrex', 'Sydneybased', 'Outsourced', 'IT', 'provider', 'describes', 'importance', 'properly', 'managed', 'Digital', 'workplace', 'The', 'digital', 'workplace', 'virtual', 'equivalent', 'physical', 'workplace', 'system', 'needs', 'planned', 'managed', 'coherently', 'fundamental', 'feature', 'employees', 'productivity', 'engagement', 'overall', 'job', 'satisfaction', 'Managers', 'need', 'address', 'opportunity', 'digital', 'workplace', 'whole', 'coordinating', 'technology', 'processes', 'importantly', 'people', 'About', 'Lanrex', 'nOur', 'team', 'highly', 'experienced', 'helping', 'businesses', 'get', 'technology', 'Consulting', 'cloud', 'infrastructure', 'outsourced', 'IT', 'servicesDont', 'waste', 'budget', 'spend', 'soontobeobsolete', 'technology', 'cant', 'evolve', 'business', 'Find', 'business', 'cloud', 'ready', 'In', 'moments', 'find', 'Cloud', 'Ready', 'selfassessment', 'tool', 'externallinks', 'published', 'T', 'crawled', 'T', 'highlightTitle']\n"
     ]
    }
   ],
   "source": [
    "filtered_sent=[]\n",
    "for w in tokenized_word:\n",
    "    if w not in stop_words:\n",
    "        filtered_sent.append(w)\n",
    "print(\"Tokenized Sentence:\",tokenized_word)\n",
    "print(\"Filterd Sentence:\",filtered_sent)"
   ]
  },
  {
   "cell_type": "code",
   "execution_count": 15,
   "metadata": {},
   "outputs": [
    {
     "data": {
      "text/plain": [
       "['organizations',\n",
       " 'uuid',\n",
       " 'ddacaeaaccdfee',\n",
       " 'thread',\n",
       " 'social',\n",
       " 'gplus',\n",
       " 'shares',\n",
       " 'pinterest',\n",
       " 'shares',\n",
       " 'vk',\n",
       " 'shares',\n",
       " 'linkedin',\n",
       " 'shares',\n",
       " 'facebook',\n",
       " 'likes',\n",
       " 'shares',\n",
       " 'comments',\n",
       " 'stumbledupon',\n",
       " 'shares',\n",
       " 'sitefull',\n",
       " 'wwwwhatechcom',\n",
       " 'mainimage',\n",
       " 'sitesection',\n",
       " 'httpwwwwhatechcomformatfeedtyperss',\n",
       " 'sectiontitle',\n",
       " 'WhaTech',\n",
       " 'Technology',\n",
       " 'News',\n",
       " 'Supplier',\n",
       " 'Sourcing',\n",
       " 'Community',\n",
       " 'WhaTech',\n",
       " 'url',\n",
       " 'httpswwwwhatechcomoutsourceditservicesnewslanembracethenewageifyourworkplaceisntdigitalyouralreadybehindyourcompetition',\n",
       " 'country',\n",
       " 'AU',\n",
       " 'title',\n",
       " 'Embrace',\n",
       " 'New',\n",
       " 'age',\n",
       " 'If',\n",
       " 'workplace',\n",
       " 'isnt',\n",
       " 'digital',\n",
       " 'youre',\n",
       " 'already',\n",
       " 'behind',\n",
       " 'competition',\n",
       " 'performancescore',\n",
       " 'site',\n",
       " 'whatechcom',\n",
       " 'participantscount',\n",
       " 'titlefull',\n",
       " 'Embrace',\n",
       " 'New',\n",
       " 'age',\n",
       " 'If',\n",
       " 'workplace',\n",
       " 'isnt',\n",
       " 'digital',\n",
       " 'youre',\n",
       " 'already',\n",
       " 'behind',\n",
       " 'competition',\n",
       " 'spamscore',\n",
       " 'sitetype',\n",
       " 'news',\n",
       " 'published',\n",
       " 'T',\n",
       " 'repliescount',\n",
       " 'uuid',\n",
       " 'ddacaeaaccdfee',\n",
       " 'author',\n",
       " 'webmasterwhatechcomau',\n",
       " 'Stern',\n",
       " 'Curator',\n",
       " 'url',\n",
       " 'httpswwwwhatechcomoutsourceditservicesnewslanembracethenewageifyourworkplaceisntdigitalyouralreadybehindyourcompetition',\n",
       " 'ordinthread',\n",
       " 'title',\n",
       " 'Embrace',\n",
       " 'New',\n",
       " 'age',\n",
       " 'If',\n",
       " 'workplace',\n",
       " 'isnt',\n",
       " 'digital',\n",
       " 'youre',\n",
       " 'already',\n",
       " 'behind',\n",
       " 'competition',\n",
       " 'locations',\n",
       " 'entities',\n",
       " 'persons',\n",
       " 'locations',\n",
       " 'organizations',\n",
       " 'highlightText',\n",
       " 'language',\n",
       " 'english',\n",
       " 'persons',\n",
       " 'text',\n",
       " 'Published',\n",
       " 'Monday',\n",
       " 'October',\n",
       " 'Submitted',\n",
       " 'Stern',\n",
       " 'Curator',\n",
       " 'Page',\n",
       " 'views',\n",
       " 'times',\n",
       " 'So',\n",
       " 'characteristics',\n",
       " 'digital',\n",
       " 'workplace',\n",
       " 'Strategy',\n",
       " 'arm',\n",
       " 'PricewaterhouseCoopers',\n",
       " 'sums',\n",
       " 'three',\n",
       " 'words',\n",
       " 'title',\n",
       " 'report',\n",
       " 'Designing',\n",
       " 'digital',\n",
       " 'workplace',\n",
       " 'Connectivity',\n",
       " 'communication',\n",
       " 'collaboration',\n",
       " 'In',\n",
       " 'words',\n",
       " 'digital',\n",
       " 'workplace',\n",
       " 'employs',\n",
       " 'digital',\n",
       " 'technology',\n",
       " 'ensure',\n",
       " 'three',\n",
       " 'functions',\n",
       " 'seamless',\n",
       " 'efficient',\n",
       " 'easy',\n",
       " 'use',\n",
       " 'technology',\n",
       " 'permits',\n",
       " 'Strategy',\n",
       " 'expands',\n",
       " 'three',\n",
       " 'broad',\n",
       " 'features',\n",
       " 'five',\n",
       " 'elements',\n",
       " 'make',\n",
       " 'digital',\n",
       " 'office',\n",
       " 'framework',\n",
       " 'access',\n",
       " 'devices',\n",
       " 'communications',\n",
       " 'infrastructure',\n",
       " 'business',\n",
       " 'applications',\n",
       " 'workplace',\n",
       " 'environment',\n",
       " 'digital',\n",
       " 'security',\n",
       " 'And',\n",
       " 'make',\n",
       " 'mistake',\n",
       " 'digital',\n",
       " 'workplace',\n",
       " 'merely',\n",
       " 'nice',\n",
       " 'Its',\n",
       " 'essential',\n",
       " 'precursor',\n",
       " 'success',\n",
       " 'todays',\n",
       " 'digitally',\n",
       " 'disrupted',\n",
       " 'business',\n",
       " 'environment',\n",
       " 'As',\n",
       " 'Strategy',\n",
       " 'says',\n",
       " 'report',\n",
       " 'Companies',\n",
       " 'every',\n",
       " 'industry',\n",
       " 'facing',\n",
       " 'real',\n",
       " 'challenges',\n",
       " 'offering',\n",
       " 'employees',\n",
       " 'best',\n",
       " 'new',\n",
       " 'technologies',\n",
       " 'need',\n",
       " 'But',\n",
       " 'see',\n",
       " 'strategic',\n",
       " 'value',\n",
       " 'working',\n",
       " 'environment',\n",
       " 'get',\n",
       " 'front',\n",
       " 'movement',\n",
       " 'truly',\n",
       " 'digital',\n",
       " 'workplace',\n",
       " 'clear',\n",
       " 'advantage',\n",
       " 'productivity',\n",
       " 'innovation',\n",
       " 'collaboration',\n",
       " 'That',\n",
       " 'turn',\n",
       " 'enable',\n",
       " 'attract',\n",
       " 'talent',\n",
       " 'need',\n",
       " 'stay',\n",
       " 'competitive',\n",
       " 'align',\n",
       " 'social',\n",
       " 'business',\n",
       " 'transformations',\n",
       " 'taking',\n",
       " 'place',\n",
       " 'around',\n",
       " 'world',\n",
       " 'Closer',\n",
       " 'home',\n",
       " 'earth',\n",
       " 'level',\n",
       " 'Australian',\n",
       " 'IT',\n",
       " 'market',\n",
       " 'research',\n",
       " 'company',\n",
       " 'Telsyte',\n",
       " 'released',\n",
       " 'March',\n",
       " 'Australian',\n",
       " 'Digital',\n",
       " 'Workplace',\n",
       " 'Study',\n",
       " 'It',\n",
       " 'covered',\n",
       " 'trends',\n",
       " 'business',\n",
       " 'ICT',\n",
       " 'spending',\n",
       " 'strategy',\n",
       " 'IT',\n",
       " 'business',\n",
       " 'leaders',\n",
       " 'preparing',\n",
       " 'impact',\n",
       " 'emerging',\n",
       " 'technologies',\n",
       " 'One',\n",
       " 'trend',\n",
       " 'stood',\n",
       " 'organisation',\n",
       " 'move',\n",
       " 'create',\n",
       " 'digital',\n",
       " 'workplace',\n",
       " 'greater',\n",
       " 'portion',\n",
       " 'IT',\n",
       " 'expenditure',\n",
       " 'end',\n",
       " 'hands',\n",
       " 'business',\n",
       " 'units',\n",
       " 'More',\n",
       " 'half',\n",
       " 'CIOs',\n",
       " 'surveyed',\n",
       " 'Telsyte',\n",
       " 'said',\n",
       " 'believe',\n",
       " 'line',\n",
       " 'business',\n",
       " 'IT',\n",
       " 'spending',\n",
       " 'exceed',\n",
       " 'central',\n",
       " 'IT',\n",
       " 'spending',\n",
       " 'within',\n",
       " 'five',\n",
       " 'years',\n",
       " 'Telsyte',\n",
       " 'reported',\n",
       " 'percent',\n",
       " 'organisations',\n",
       " 'least',\n",
       " 'one',\n",
       " 'line',\n",
       " 'business',\n",
       " 'including',\n",
       " 'marketing',\n",
       " 'operations',\n",
       " 'finance',\n",
       " 'IT',\n",
       " 'budget',\n",
       " 'This',\n",
       " 'five',\n",
       " 'percent',\n",
       " 'shows',\n",
       " 'growing',\n",
       " 'demand',\n",
       " 'IT',\n",
       " 'services',\n",
       " 'areas',\n",
       " 'business',\n",
       " 'like',\n",
       " 'marketing',\n",
       " 'Telsyte',\n",
       " 'said',\n",
       " 'Combine',\n",
       " 'accessible',\n",
       " 'cloudbased',\n",
       " 'applications',\n",
       " 'CIO',\n",
       " 'another',\n",
       " 'information',\n",
       " 'management',\n",
       " 'procurement',\n",
       " 'channel',\n",
       " 'deal',\n",
       " 'Jodie',\n",
       " 'Korber',\n",
       " 'MD',\n",
       " 'Lanrex',\n",
       " 'Sydneybased',\n",
       " 'Outsourced',\n",
       " 'IT',\n",
       " 'provider',\n",
       " 'describes',\n",
       " 'importance',\n",
       " 'properly',\n",
       " 'managed',\n",
       " 'Digital',\n",
       " 'workplace',\n",
       " 'The',\n",
       " 'digital',\n",
       " 'workplace',\n",
       " 'virtual',\n",
       " 'equivalent',\n",
       " 'physical',\n",
       " 'workplace',\n",
       " 'system',\n",
       " 'needs',\n",
       " 'planned',\n",
       " 'managed',\n",
       " 'coherently',\n",
       " 'fundamental',\n",
       " 'feature',\n",
       " 'employees',\n",
       " 'productivity',\n",
       " 'engagement',\n",
       " 'overall',\n",
       " 'job',\n",
       " 'satisfaction',\n",
       " 'Managers',\n",
       " 'need',\n",
       " 'address',\n",
       " 'opportunity',\n",
       " 'digital',\n",
       " 'workplace',\n",
       " 'whole',\n",
       " 'coordinating',\n",
       " 'technology',\n",
       " 'processes',\n",
       " 'importantly',\n",
       " 'people',\n",
       " 'About',\n",
       " 'Lanrex',\n",
       " 'nOur',\n",
       " 'team',\n",
       " 'highly',\n",
       " 'experienced',\n",
       " 'helping',\n",
       " 'businesses',\n",
       " 'get',\n",
       " 'technology',\n",
       " 'Consulting',\n",
       " 'cloud',\n",
       " 'infrastructure',\n",
       " 'outsourced',\n",
       " 'IT',\n",
       " 'servicesDont',\n",
       " 'waste',\n",
       " 'budget',\n",
       " 'spend',\n",
       " 'soontobeobsolete',\n",
       " 'technology',\n",
       " 'cant',\n",
       " 'evolve',\n",
       " 'business',\n",
       " 'Find',\n",
       " 'business',\n",
       " 'cloud',\n",
       " 'ready',\n",
       " 'In',\n",
       " 'moments',\n",
       " 'find',\n",
       " 'Cloud',\n",
       " 'Ready',\n",
       " 'selfassessment',\n",
       " 'tool',\n",
       " 'externallinks',\n",
       " 'published',\n",
       " 'T',\n",
       " 'crawled',\n",
       " 'T',\n",
       " 'highlightTitle']"
      ]
     },
     "execution_count": 15,
     "metadata": {},
     "output_type": "execute_result"
    }
   ],
   "source": [
    "filtered_sent"
   ]
  },
  {
   "cell_type": "code",
   "execution_count": 16,
   "metadata": {},
   "outputs": [
    {
     "name": "stdout",
     "output_type": "stream",
     "text": [
      "<FreqDist with 297 samples and 420 outcomes>\n"
     ]
    }
   ],
   "source": [
    "from nltk.probability import FreqDist\n",
    "fdist = FreqDist(filtered_sent)\n",
    "print(fdist)"
   ]
  },
  {
   "cell_type": "code",
   "execution_count": 21,
   "metadata": {
    "scrolled": true
   },
   "outputs": [
    {
     "name": "stdout",
     "output_type": "stream",
     "text": [
      "{'organizations': 26, 'uuid': 45, 'ddacaeaaccdfee': 9, 'social': 36, 'shares': 35, 'whatech': 46, 'technology': 41, 'news': 25, 'url': 44, 'httpswwwwhatechcomoutsourceditservicesnewslanembracethenewageifyourworkplaceisntdigitalyouralreadybehindyourcompetition': 14, 'title': 43, 'embrace': 11, 'new': 24, 'age': 0, 'workplace': 48, 'isnt': 16, 'digital': 10, 'youre': 49, 'competition': 7, 'published': 31, 'stern': 38, 'curator': 8, 'locations': 19, 'persons': 29, 'strategy': 39, 'words': 47, 'report': 33, 'collaboration': 6, 'make': 20, 'infrastructure': 15, 'business': 4, 'applications': 1, 'environment': 13, 'employees': 12, 'technologies': 40, 'need': 23, 'productivity': 30, 'australian': 2, 'telsyte': 42, 'spending': 37, 'said': 34, 'line': 18, 'percent': 28, 'marketing': 22, 'budget': 3, 'lanrex': 17, 'outsourced': 27, 'managed': 21, 'cloud': 5, 'ready': 32}\n",
      "['age', 'applications', 'australian', 'budget', 'business', 'cloud', 'collaboration', 'competition', 'curator', 'ddacaeaaccdfee', 'digital', 'embrace', 'employees', 'environment', 'httpswwwwhatechcomoutsourceditservicesnewslanembracethenewageifyourworkplaceisntdigitalyouralreadybehindyourcompetition', 'infrastructure', 'isnt', 'lanrex', 'line', 'locations', 'make', 'managed', 'marketing', 'need', 'new', 'news', 'organizations', 'outsourced', 'percent', 'persons', 'productivity', 'published', 'ready', 'report', 'said', 'shares', 'social', 'spending', 'stern', 'strategy', 'technologies', 'technology', 'telsyte', 'title', 'url', 'uuid', 'whatech', 'words', 'workplace', 'youre']\n"
     ]
    }
   ],
   "source": [
    "from sklearn.feature_extraction.text import CountVectorizer\n",
    "count_vec = CountVectorizer(stop_words=\"english\", analyzer='word', \n",
    "                            ngram_range=(1, 3), max_df=0.50, min_df=1, max_features=50)\n",
    "\n",
    "count_train = count_vec.fit(filtered_sent)\n",
    "bag_of_words = count_vec.transform(filtered_sent)\n",
    "print(count_train.vocabulary_)\n",
    "print(count_vec.get_feature_names())"
   ]
  },
  {
   "cell_type": "code",
   "execution_count": 22,
   "metadata": {},
   "outputs": [
    {
     "name": "stdout",
     "output_type": "stream",
     "text": [
      "<FreqDist with 50 samples and 50 outcomes>\n"
     ]
    }
   ],
   "source": [
    "from nltk.probability import FreqDist\n",
    "fdist = FreqDist(count_vec.get_feature_names())\n",
    "print(fdist)"
   ]
  },
  {
   "cell_type": "code",
   "execution_count": 23,
   "metadata": {
    "scrolled": true
   },
   "outputs": [
    {
     "name": "stdout",
     "output_type": "stream",
     "text": [
      "[('age', 'NN'), ('applications', 'NNS'), ('australian', 'JJ'), ('budget', 'NN'), ('business', 'NN'), ('cloud', 'NN'), ('collaboration', 'NN'), ('competition', 'NN'), ('curator', 'NN'), ('ddacaeaaccdfee', 'NN'), ('digital', 'JJ'), ('embrace', 'NN'), ('employees', 'NNS'), ('environment', 'NN'), ('httpswwwwhatechcomoutsourceditservicesnewslanembracethenewageifyourworkplaceisntdigitalyouralreadybehindyourcompetition', 'NN'), ('infrastructure', 'NN'), ('isnt', 'JJ'), ('lanrex', 'JJ'), ('line', 'NN'), ('locations', 'NNS'), ('make', 'VBP'), ('managed', 'VBN'), ('marketing', 'NN'), ('need', 'VBP'), ('new', 'JJ'), ('news', 'NN'), ('organizations', 'NNS'), ('outsourced', 'VBD'), ('percent', 'JJ'), ('persons', 'NNS'), ('productivity', 'NN'), ('published', 'VBN'), ('ready', 'JJ'), ('report', 'NN'), ('said', 'VBD'), ('shares', 'NNS'), ('social', 'JJ'), ('spending', 'NN'), ('stern', 'JJ'), ('strategy', 'NN'), ('technologies', 'NNS'), ('technology', 'NN'), ('telsyte', 'NN'), ('title', 'NN'), ('url', 'JJ'), ('uuid', 'JJ'), ('whatech', 'NN'), ('words', 'NNS'), ('workplace', 'VBP'), ('youre', 'NN')]\n"
     ]
    }
   ],
   "source": [
    "import nltk\n",
    "pos_text=nltk.pos_tag(count_vec.get_feature_names())\n",
    "print(pos_text)"
   ]
  },
  {
   "cell_type": "code",
   "execution_count": 28,
   "metadata": {},
   "outputs": [
    {
     "name": "stdout",
     "output_type": "stream",
     "text": [
      "(S\n",
      "  (NP age/NN)\n",
      "  applications/NNS\n",
      "  (NP\n",
      "    australian/JJ\n",
      "    budget/NN\n",
      "    business/NN\n",
      "    cloud/NN\n",
      "    collaboration/NN\n",
      "    competition/NN\n",
      "    curator/NN\n",
      "    ddacaeaaccdfee/NN)\n",
      "  (NP digital/JJ embrace/NN)\n",
      "  employees/NNS\n",
      "  (NP\n",
      "    environment/NN\n",
      "    httpswwwwhatechcomoutsourceditservicesnewslanembracethenewageifyourworkplaceisntdigitalyouralreadybehindyourcompetition/NN\n",
      "    infrastructure/NN)\n",
      "  (NP isnt/JJ lanrex/JJ line/NN)\n",
      "  locations/NNS\n",
      "  make/VBP\n",
      "  managed/VBN\n",
      "  (NP marketing/NN)\n",
      "  need/VBP\n",
      "  (NP new/JJ news/NN)\n",
      "  organizations/NNS\n",
      "  outsourced/VBD\n",
      "  (NP percent/JJ)\n",
      "  persons/NNS\n",
      "  (NP productivity/NN)\n",
      "  published/VBN\n",
      "  (NP ready/JJ report/NN)\n",
      "  said/VBD\n",
      "  shares/NNS\n",
      "  (NP social/JJ spending/NN)\n",
      "  (NP stern/JJ strategy/NN)\n",
      "  technologies/NNS\n",
      "  (NP technology/NN telsyte/NN title/NN)\n",
      "  (NP url/JJ uuid/JJ whatech/NN)\n",
      "  words/NNS\n",
      "  workplace/VBP\n",
      "  (NP youre/NN))\n"
     ]
    }
   ],
   "source": [
    "grammar = (r'''\n",
    "     NP: {<DT>?<JJ>*<NN>*}\n",
    "     ''')\n",
    "chunkparser=nltk.chunk.RegexpParser(grammar)\n",
    "result=chunkparser.parse(pos_text)\n",
    "print(result)"
   ]
  },
  {
   "cell_type": "code",
   "execution_count": 40,
   "metadata": {},
   "outputs": [
    {
     "name": "stdout",
     "output_type": "stream",
     "text": [
      "  age/NN\n",
      "  applications/NNS\n",
      "  budget/NN\n",
      "  business/NN\n",
      "  cloud/NN\n",
      "  collaboration/NN\n",
      "  competition/NN\n",
      "  curator/NN\n",
      "  ddacaeaaccdfee/NN\n",
      "  embrace/NN\n",
      "  employees/NNS\n",
      "  environment/NN\n",
      "  httpswwwwhatechcomoutsourceditservicesnewslanembracethenewageifyourworkplaceisntdigitalyouralreadybehindyourcompetition/NN\n",
      "  infrastructure/NN\n",
      "  line/NN\n",
      "  locations/NNS\n",
      "  marketing/NN\n",
      "  news/NN\n",
      "  organizations/NNS\n",
      "  persons/NNS\n",
      "  productivity/NN\n",
      "  report/NN\n",
      "  shares/NNS\n",
      "  spending/NN\n",
      "  strategy/NN\n",
      "  technologies/NNS\n",
      "  technology/NN\n",
      "  telsyte/NN\n",
      "  title/NN\n",
      "  whatech/NN\n",
      "  words/NNS\n",
      "  youre/NN)\n"
     ]
    }
   ],
   "source": [
    "from nltk import ne_chunk\n",
    "chunk = ne_chunk(pos_text)\n",
    "for x in str(chunk).split('\\n'):\n",
    "    if '/NN' in x:\n",
    "        print(x)"
   ]
  },
  {
   "cell_type": "code",
   "execution_count": null,
   "metadata": {},
   "outputs": [],
   "source": []
  },
  {
   "cell_type": "code",
   "execution_count": null,
   "metadata": {},
   "outputs": [],
   "source": []
  },
  {
   "cell_type": "code",
   "execution_count": null,
   "metadata": {},
   "outputs": [],
   "source": []
  },
  {
   "cell_type": "code",
   "execution_count": null,
   "metadata": {},
   "outputs": [],
   "source": []
  },
  {
   "cell_type": "code",
   "execution_count": null,
   "metadata": {},
   "outputs": [],
   "source": []
  },
  {
   "cell_type": "code",
   "execution_count": null,
   "metadata": {},
   "outputs": [],
   "source": []
  },
  {
   "cell_type": "code",
   "execution_count": null,
   "metadata": {},
   "outputs": [],
   "source": []
  }
 ],
 "metadata": {
  "kernelspec": {
   "display_name": "Python 3",
   "language": "python",
   "name": "python3"
  },
  "language_info": {
   "codemirror_mode": {
    "name": "ipython",
    "version": 3
   },
   "file_extension": ".py",
   "mimetype": "text/x-python",
   "name": "python",
   "nbconvert_exporter": "python",
   "pygments_lexer": "ipython3",
   "version": "3.7.6"
  }
 },
 "nbformat": 4,
 "nbformat_minor": 4
}
