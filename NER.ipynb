{
 "cells": [
  {
   "cell_type": "code",
   "execution_count": 1,
   "metadata": {},
   "outputs": [],
   "source": [
    "import numpy as np\n",
    "import pandas as pd\n",
    "import json"
   ]
  },
  {
   "cell_type": "code",
   "execution_count": 2,
   "metadata": {},
   "outputs": [
    {
     "data": {
      "text/plain": [
       "'/Users/sandynipun'"
      ]
     },
     "execution_count": 2,
     "metadata": {},
     "output_type": "execute_result"
    }
   ],
   "source": [
    "pwd"
   ]
  },
  {
   "cell_type": "code",
   "execution_count": 3,
   "metadata": {},
   "outputs": [
    {
     "name": "stdout",
     "output_type": "stream",
     "text": [
      "/Users/sandynipun/Downloads\n"
     ]
    }
   ],
   "source": [
    "cd /Users/sandynipun/Downloads"
   ]
  },
  {
   "cell_type": "code",
   "execution_count": 4,
   "metadata": {},
   "outputs": [],
   "source": [
    "import json\n",
    "with open('/Users/sandynipun/Downloads/dfd/news_0000007.json') as f:\n",
    "    data=json.load(f)"
   ]
  },
  {
   "cell_type": "code",
   "execution_count": 5,
   "metadata": {},
   "outputs": [
    {
     "data": {
      "text/plain": [
       "{'organizations': ['Military Researchers',\n",
       "  'Hutchison China MediTech Limited',\n",
       "  'Clinovo Expands Business Development Team',\n",
       "  'PRCC',\n",
       "  'Progenix Pharmaceuticals, Inc.',\n",
       "  'Treat Complex Burns and Soft Tissue Injuries',\n",
       "  'Dawson James Small',\n",
       "  'Inc.',\n",
       "  'Dawson James Small Cap Growth Conference',\n",
       "  'Avanex Life Sciences Corp.'],\n",
       " 'uuid': '46182b37d15fab921938a2723ca338e518d28bde',\n",
       " 'thread': {'social': {'gplus': {'shares': 0},\n",
       "   'pinterest': {'shares': 0},\n",
       "   'vk': {'shares': 0},\n",
       "   'linkedin': {'shares': 0},\n",
       "   'facebook': {'likes': 0, 'shares': 0, 'comments': 0},\n",
       "   'stumbledupon': {'shares': 0}},\n",
       "  'site_full': 'www.bio-medicine.org',\n",
       "  'main_image': '',\n",
       "  'site_section': 'http://feeds.bio-medicine.org/latest-biology-technology',\n",
       "  'section_title': 'Latest Biology Technology from Bio-Medicine.Org',\n",
       "  'url': 'http://www.bio-medicine.org/biology-technology-1/DunAn-Microstaq--28DMQ-29-Launches-Remote-Control-and-Monitoring-Platform-for-Refrigeration-Systems-on-Android-Smartphones-34338-1/',\n",
       "  'country': 'US',\n",
       "  'title': 'DunAn Microstaq (DMQ) Launches Remote Control and Monitoring Platform for Refrigeration Systems on Android Smartphones',\n",
       "  'performance_score': 0,\n",
       "  'site': 'bio-medicine.org',\n",
       "  'participants_count': 0,\n",
       "  'title_full': 'DunAn Microstaq (DMQ) Launches Remote Control and Monitoring Platform for Refrigeration Systems on Android Smartphones',\n",
       "  'spam_score': 0.0,\n",
       "  'site_type': 'news',\n",
       "  'published': '2015-10-13T11:31:00.000+03:00',\n",
       "  'replies_count': 0,\n",
       "  'uuid': '46182b37d15fab921938a2723ca338e518d28bde'},\n",
       " 'author': '',\n",
       " 'url': 'http://www.bio-medicine.org/biology-technology-1/DunAn-Microstaq--28DMQ-29-Launches-Remote-Control-and-Monitoring-Platform-for-Refrigeration-Systems-on-Android-Smartphones-34338-1/',\n",
       " 'ord_in_thread': 0,\n",
       " 'title': 'DunAn Microstaq (DMQ) Launches Remote Control and Monitoring Platform for Refrigeration Systems on Android Smartphones',\n",
       " 'locations': ['United States',\n",
       "  'HCM',\n",
       "  'Canada',\n",
       "  'YORK',\n",
       "  'Europe',\n",
       "  'Florida',\n",
       "  'DUBLIN'],\n",
       " 'entities': {'persons': [], 'locations': [], 'organizations': []},\n",
       " 'highlightText': '',\n",
       " 'language': 'english',\n",
       " 'persons': ['Jeff Parr', 'Ed Donaldson', 'E. Washington', 'Hutchison'],\n",
       " 'text': '* Comment: * Email: (Date:10/13/2015)... , October 13, 2015 ARRY ... Inc. (NASDAQ: JUNO ), and Progenix Pharmaceuticals, Inc. ... Avanex Life Sciences Corp. (OTCQX: AVXLD), Juno Therapeutics, Inc. ... PGNX ) --> Cooperative research and ... industry can potentially lead to advancements in the treatment ... (Date:10/13/2015)... TapImmune, Inc. (TPIV), a ... peptide and gene-based immunotherapeutics and vaccines for the treatment ... presenting company at the Dawson James Small Cap ... Jupiter, Florida on October 15, ... clinical-stage immunotherapy company specializing in the development of innovative ... (Date:10/13/2015)... ... 13, 2015 , ... Clinovo recently appointed Jeff Parr and Ed Donaldson to ... data solutions business. , Jeff Parr has spent the past decade providing quality management ... Thermo Fisher, and Ab Sciex to name a few. He is based in ... (Date:10/13/2015)... the United States , Canada ... 14% of all new cases of kidney cancer. --> ... and Europe . PRCC represents about 14% ... Hutchison China MediTech Limited (\"Chi-Med\") (AIM: HCM) today announces that Hutchison ... (\"AstraZeneca\") have completed enrolment in a global Phase II study of ... [ 0 ] Military Researchers to Conduct Clinical Study of a \"Skin Substitute\" Using a Patient\\'s Own Cells to Treat Complex Burns and Soft Tissue Injuries [ 0 ] TapImmune to Present at Dawson James Small Cap Growth Conference in Florida on October 15, 2015 [ 0 ] Clinovo Expands Business Development Team [ 0 ] Savolitinib Completes Enrolment for Phase II Clinical Trial in Papillary Renal Cell Carcinoma (Date:10/7/2015)... , October 7, 2015 NXTD ... focused on the growing mobile commerce market and creator ... E. Washington , former long- term executive at American ... --> NXTD ) (\"NXT-ID\" or the \"Company\"), ... commerce market and creator of the Wocket® smart wallet ... (Date:10/2/2015)... DUBLIN , Oct. 02 2015 ... addition of the \"Enforcing the Law Using ... http://www.researchandmarkets.com/research/6kp5mx/enforcing_the_law ) has announced the addition of ... report to their offering. --> Research ... addition of the \"Enforcing the Law Using ... (Date:9/30/2015)... YORK , Sept. 30, 2015 The global glucose ... billion for 2015. So says a new report on the ... diabetes management segment dominate the market, followed by continuous glucose ... publisher. Kalorama reports on the market for these products in its ... ...',\n",
       " 'external_links': [],\n",
       " 'published': '2015-10-13T11:31:00.000+03:00',\n",
       " 'crawled': '2015-10-14T16:19:47.033+03:00',\n",
       " 'highlightTitle': ''}"
      ]
     },
     "execution_count": 5,
     "metadata": {},
     "output_type": "execute_result"
    }
   ],
   "source": [
    "data"
   ]
  },
  {
   "cell_type": "code",
   "execution_count": 6,
   "metadata": {},
   "outputs": [
    {
     "data": {
      "text/plain": [
       "dict"
      ]
     },
     "execution_count": 6,
     "metadata": {},
     "output_type": "execute_result"
    }
   ],
   "source": [
    "type(data)"
   ]
  },
  {
   "cell_type": "code",
   "execution_count": 7,
   "metadata": {},
   "outputs": [
    {
     "data": {
      "text/plain": [
       "'{\"organizations\": [\"Military Researchers\", \"Hutchison China MediTech Limited\", \"Clinovo Expands Business Development Team\", \"PRCC\", \"Progenix Pharmaceuticals, Inc.\", \"Treat Complex Burns and Soft Tissue Injuries\", \"Dawson James Small\", \"Inc.\", \"Dawson James Small Cap Growth Conference\", \"Avanex Life Sciences Corp.\"], \"uuid\": \"46182b37d15fab921938a2723ca338e518d28bde\", \"thread\": {\"social\": {\"gplus\": {\"shares\": 0}, \"pinterest\": {\"shares\": 0}, \"vk\": {\"shares\": 0}, \"linkedin\": {\"shares\": 0}, \"facebook\": {\"likes\": 0, \"shares\": 0, \"comments\": 0}, \"stumbledupon\": {\"shares\": 0}}, \"site_full\": \"www.bio-medicine.org\", \"main_image\": \"\", \"site_section\": \"http://feeds.bio-medicine.org/latest-biology-technology\", \"section_title\": \"Latest Biology Technology from Bio-Medicine.Org\", \"url\": \"http://www.bio-medicine.org/biology-technology-1/DunAn-Microstaq--28DMQ-29-Launches-Remote-Control-and-Monitoring-Platform-for-Refrigeration-Systems-on-Android-Smartphones-34338-1/\", \"country\": \"US\", \"title\": \"DunAn Microstaq (DMQ) Launches Remote Control and Monitoring Platform for Refrigeration Systems on Android Smartphones\", \"performance_score\": 0, \"site\": \"bio-medicine.org\", \"participants_count\": 0, \"title_full\": \"DunAn Microstaq (DMQ) Launches Remote Control and Monitoring Platform for Refrigeration Systems on Android Smartphones\", \"spam_score\": 0.0, \"site_type\": \"news\", \"published\": \"2015-10-13T11:31:00.000+03:00\", \"replies_count\": 0, \"uuid\": \"46182b37d15fab921938a2723ca338e518d28bde\"}, \"author\": \"\", \"url\": \"http://www.bio-medicine.org/biology-technology-1/DunAn-Microstaq--28DMQ-29-Launches-Remote-Control-and-Monitoring-Platform-for-Refrigeration-Systems-on-Android-Smartphones-34338-1/\", \"ord_in_thread\": 0, \"title\": \"DunAn Microstaq (DMQ) Launches Remote Control and Monitoring Platform for Refrigeration Systems on Android Smartphones\", \"locations\": [\"United States\", \"HCM\", \"Canada\", \"YORK\", \"Europe\", \"Florida\", \"DUBLIN\"], \"entities\": {\"persons\": [], \"locations\": [], \"organizations\": []}, \"highlightText\": \"\", \"language\": \"english\", \"persons\": [\"Jeff Parr\", \"Ed Donaldson\", \"E. Washington\", \"Hutchison\"], \"text\": \"* Comment: * Email: (Date:10/13/2015)... , October 13, 2015 ARRY ... Inc. (NASDAQ: JUNO ), and Progenix Pharmaceuticals, Inc. ... Avanex Life Sciences Corp. (OTCQX: AVXLD), Juno Therapeutics, Inc. ... PGNX ) --> Cooperative research and ... industry can potentially lead to advancements in the treatment ... (Date:10/13/2015)... TapImmune, Inc. (TPIV), a ... peptide and gene-based immunotherapeutics and vaccines for the treatment ... presenting company at the Dawson James Small Cap ... Jupiter, Florida on October 15, ... clinical-stage immunotherapy company specializing in the development of innovative ... (Date:10/13/2015)... ... 13, 2015 , ... Clinovo recently appointed Jeff Parr and Ed Donaldson to ... data solutions business. , Jeff Parr has spent the past decade providing quality management ... Thermo Fisher, and Ab Sciex to name a few. He is based in ... (Date:10/13/2015)... the United States , Canada ... 14% of all new cases of kidney cancer. --> ... and Europe . PRCC represents about 14% ... Hutchison China MediTech Limited (\\\\\"Chi-Med\\\\\") (AIM: HCM) today announces that Hutchison ... (\\\\\"AstraZeneca\\\\\") have completed enrolment in a global Phase II study of ... [ 0 ] Military Researchers to Conduct Clinical Study of a \\\\\"Skin Substitute\\\\\" Using a Patient\\'s Own Cells to Treat Complex Burns and Soft Tissue Injuries [ 0 ] TapImmune to Present at Dawson James Small Cap Growth Conference in Florida on October 15, 2015 [ 0 ] Clinovo Expands Business Development Team [ 0 ] Savolitinib Completes Enrolment for Phase II Clinical Trial in Papillary Renal Cell Carcinoma (Date:10/7/2015)... , October 7, 2015 NXTD ... focused on the growing mobile commerce market and creator ... E. Washington , former long- term executive at American ... --> NXTD ) (\\\\\"NXT-ID\\\\\" or the \\\\\"Company\\\\\"), ... commerce market and creator of the Wocket® smart wallet ... (Date:10/2/2015)... DUBLIN , Oct. 02 2015 ... addition of the \\\\\"Enforcing the Law Using ... http://www.researchandmarkets.com/research/6kp5mx/enforcing_the_law ) has announced the addition of ... report to their offering. --> Research ... addition of the \\\\\"Enforcing the Law Using ... (Date:9/30/2015)... YORK , Sept. 30, 2015 The global glucose ... billion for 2015. So says a new report on the ... diabetes management segment dominate the market, followed by continuous glucose ... publisher. Kalorama reports on the market for these products in its ... ...\", \"external_links\": [], \"published\": \"2015-10-13T11:31:00.000+03:00\", \"crawled\": \"2015-10-14T16:19:47.033+03:00\", \"highlightTitle\": \"\"}'"
      ]
     },
     "execution_count": 7,
     "metadata": {},
     "output_type": "execute_result"
    }
   ],
   "source": [
    "df = json.dumps(data, ensure_ascii=False)\n",
    "\n",
    "df"
   ]
  },
  {
   "cell_type": "code",
   "execution_count": 9,
   "metadata": {},
   "outputs": [
    {
     "data": {
      "text/plain": [
       "str"
      ]
     },
     "execution_count": 9,
     "metadata": {},
     "output_type": "execute_result"
    }
   ],
   "source": [
    "type(df)"
   ]
  },
  {
   "cell_type": "code",
   "execution_count": 10,
   "metadata": {},
   "outputs": [],
   "source": [
    "import re\n",
    "text=re.sub(\"[^A-Za-z ]+\",\"\",df)"
   ]
  },
  {
   "cell_type": "code",
   "execution_count": 11,
   "metadata": {},
   "outputs": [
    {
     "data": {
      "text/plain": [
       "'organizations Military Researchers Hutchison China MediTech Limited Clinovo Expands Business Development Team PRCC Progenix Pharmaceuticals Inc Treat Complex Burns and Soft Tissue Injuries Dawson James Small Inc Dawson James Small Cap Growth Conference Avanex Life Sciences Corp uuid bdfabacaedbde thread social gplus shares  pinterest shares  vk shares  linkedin shares  facebook likes  shares  comments  stumbledupon shares  sitefull wwwbiomedicineorg mainimage  sitesection httpfeedsbiomedicineorglatestbiologytechnology sectiontitle Latest Biology Technology from BioMedicineOrg url httpwwwbiomedicineorgbiologytechnologyDunAnMicrostaqDMQLaunchesRemoteControlandMonitoringPlatformforRefrigerationSystemsonAndroidSmartphones country US title DunAn Microstaq DMQ Launches Remote Control and Monitoring Platform for Refrigeration Systems on Android Smartphones performancescore  site biomedicineorg participantscount  titlefull DunAn Microstaq DMQ Launches Remote Control and Monitoring Platform for Refrigeration Systems on Android Smartphones spamscore  sitetype news published T repliescount  uuid bdfabacaedbde author  url httpwwwbiomedicineorgbiologytechnologyDunAnMicrostaqDMQLaunchesRemoteControlandMonitoringPlatformforRefrigerationSystemsonAndroidSmartphones ordinthread  title DunAn Microstaq DMQ Launches Remote Control and Monitoring Platform for Refrigeration Systems on Android Smartphones locations United States HCM Canada YORK Europe Florida DUBLIN entities persons  locations  organizations  highlightText  language english persons Jeff Parr Ed Donaldson E Washington Hutchison text  Comment  Email Date  October   ARRY  Inc NASDAQ JUNO  and Progenix Pharmaceuticals Inc  Avanex Life Sciences Corp OTCQX AVXLD Juno Therapeutics Inc  PGNX   Cooperative research and  industry can potentially lead to advancements in the treatment  Date TapImmune Inc TPIV a  peptide and genebased immunotherapeutics and vaccines for the treatment  presenting company at the Dawson James Small Cap  Jupiter Florida on October   clinicalstage immunotherapy company specializing in the development of innovative  Date      Clinovo recently appointed Jeff Parr and Ed Donaldson to  data solutions business  Jeff Parr has spent the past decade providing quality management  Thermo Fisher and Ab Sciex to name a few He is based in  Date the United States  Canada   of all new cases of kidney cancer   and Europe  PRCC represents about   Hutchison China MediTech Limited ChiMed AIM HCM today announces that Hutchison  AstraZeneca have completed enrolment in a global Phase II study of     Military Researchers to Conduct Clinical Study of a Skin Substitute Using a Patients Own Cells to Treat Complex Burns and Soft Tissue Injuries    TapImmune to Present at Dawson James Small Cap Growth Conference in Florida on October      Clinovo Expands Business Development Team    Savolitinib Completes Enrolment for Phase II Clinical Trial in Papillary Renal Cell Carcinoma Date  October   NXTD  focused on the growing mobile commerce market and creator  E Washington  former long term executive at American   NXTD  NXTID or the Company  commerce market and creator of the Wocket smart wallet  Date DUBLIN  Oct    addition of the Enforcing the Law Using  httpwwwresearchandmarketscomresearchkpmxenforcingthelaw  has announced the addition of  report to their offering  Research  addition of the Enforcing the Law Using  Date YORK  Sept   The global glucose  billion for  So says a new report on the  diabetes management segment dominate the market followed by continuous glucose  publisher Kalorama reports on the market for these products in its   externallinks  published T crawled T highlightTitle '"
      ]
     },
     "execution_count": 11,
     "metadata": {},
     "output_type": "execute_result"
    }
   ],
   "source": [
    "text"
   ]
  },
  {
   "cell_type": "code",
   "execution_count": 12,
   "metadata": {},
   "outputs": [],
   "source": [
    "import spacy\n",
    "nlp=spacy.load('en_core_web_sm')\n"
   ]
  },
  {
   "cell_type": "code",
   "execution_count": 23,
   "metadata": {},
   "outputs": [],
   "source": [
    "sent='organizations Military Researchers Hutchison China MediTech Limited Clinovo Expands Business Development Team PRCC Progenix Pharmaceuticals Inc Treat Complex Burns and Soft Tissue Injuries Dawson James Small Inc Dawson James Small Cap Growth Conference Avanex Life Sciences Corp uuid bdfabacaedbde thread social gplus shares  pinterest shares  vk shares  linkedin shares  facebook likes  shares  comments  stumbledupon shares  sitefull wwwbiomedicineorg mainimage  sitesection httpfeedsbiomedicineorglatestbiologytechnology sectiontitle Latest Biology Technology from BioMedicineOrg url httpwwwbiomedicineorgbiologytechnologyDunAnMicrostaqDMQLaunchesRemoteControlandMonitoringPlatformforRefrigerationSystemsonAndroidSmartphones country US title DunAn Microstaq DMQ Launches Remote Control and Monitoring Platform for Refrigeration Systems on Android Smartphones performancescore  site biomedicineorg participantscount  titlefull DunAn Microstaq DMQ Launches Remote Control and Monitoring Platform for Refrigeration Systems on Android Smartphones spamscore  sitetype news published T repliescount  uuid bdfabacaedbde author  url httpwwwbiomedicineorgbiologytechnologyDunAnMicrostaqDMQLaunchesRemoteControlandMonitoringPlatformforRefrigerationSystemsonAndroidSmartphones ordinthread  title DunAn Microstaq DMQ Launches Remote Control and Monitoring Platform for Refrigeration Systems on Android Smartphones locations United States HCM Canada YORK Europe Florida DUBLIN entities persons  locations  organizations  highlightText  language english persons Jeff Parr Ed Donaldson E Washington Hutchison text  Comment  Email Date  October   ARRY  Inc NASDAQ JUNO  and Progenix Pharmaceuticals Inc  Avanex Life Sciences Corp OTCQX AVXLD Juno Therapeutics Inc  PGNX   Cooperative research and  industry can potentially lead to advancements in the treatment  Date TapImmune Inc TPIV a  peptide and genebased immunotherapeutics and vaccines for the treatment  presenting company at the Dawson James Small Cap  Jupiter Florida on October   clinicalstage immunotherapy company specializing in the development of innovative  Date      Clinovo recently appointed Jeff Parr and Ed Donaldson to  data solutions business  Jeff Parr has spent the past decade providing quality management  Thermo Fisher and Ab Sciex to name a few He is based in  Date the United States  Canada   of all new cases of kidney cancer   and Europe  PRCC represents about   Hutchison China MediTech Limited ChiMed AIM HCM today announces that Hutchison  AstraZeneca have completed enrolment in a global Phase II study of     Military Researchers to Conduct Clinical Study of a Skin Substitute Using a Patients Own Cells to Treat Complex Burns and Soft Tissue Injuries    TapImmune to Present at Dawson James Small Cap Growth Conference in Florida on October      Clinovo Expands Business Development Team    Savolitinib Completes Enrolment for Phase II Clinical Trial in Papillary Renal Cell Carcinoma Date  October   NXTD  focused on the growing mobile commerce market and creator  E Washington  former long term executive at American   NXTD  NXTID or the Company  commerce market and creator of the Wocket smart wallet  Date DUBLIN  Oct    addition of the Enforcing the Law Using  httpwwwresearchandmarketscomresearchkpmxenforcingthelaw  has announced the addition of  report to their offering  Research  addition of the Enforcing the Law Using  Date YORK  Sept   The global glucose  billion for  So says a new report on the  diabetes management segment dominate the market followed by continuous glucose  publisher Kalorama reports on the market for these products in its   externallinks  published T crawled T highlightTitle '\n",
    "doc=nlp(sent)\n"
   ]
  },
  {
   "cell_type": "code",
   "execution_count": 33,
   "metadata": {},
   "outputs": [
    {
     "name": "stdout",
     "output_type": "stream",
     "text": [
      "Named entities in this text are\n",
      "\n",
      "Hutchison China MediTech Limited Clinovo Expands Business Development Team ORG\n",
      "Complex Burns PERSON\n",
      "Soft Tissue Injuries ORG\n",
      "Latest Biology Technology ORG\n",
      "US GPE\n",
      "Android Smartphones ORG\n",
      "Android Smartphones ORG\n",
      "DunAn Microstaq PERSON\n",
      "Android Smartphones ORG\n",
      "United States ORG\n",
      "HCM Canada ORG\n",
      "Florida GPE\n",
      "DUBLIN ORG\n",
      "Jeff Parr PERSON\n",
      "Ed Donaldson PERSON\n",
      "October DATE\n",
      "Inc NASDAQ JUNO PERSON\n",
      "Progenix Pharmaceuticals Inc ORG\n",
      "Avanex Life Sciences Corp ORG\n",
      "the Dawson James Small Cap ORG\n",
      "Jupiter CARDINAL\n",
      "Florida GPE\n",
      "October DATE\n",
      "Date      Clinovo WORK_OF_ART\n",
      "Jeff Parr PERSON\n",
      "Ed Donaldson PERSON\n",
      "Jeff Parr PERSON\n",
      "the past decade DATE\n",
      "Thermo Fisher WORK_OF_ART\n",
      "Ab Sciex PERSON\n",
      "the United States GPE\n",
      "Canada GPE\n",
      "Europe LOC\n",
      "Hutchison China MediTech Limited ORG\n",
      "today DATE\n",
      "Hutchison PERSON\n",
      "AstraZeneca ORG\n",
      "Phase II ORG\n",
      "Patients Own Cells ORG\n",
      "Complex Burns PERSON\n",
      "Soft Tissue Injuries ORG\n",
      "Dawson James Small Cap Growth Conference ORG\n",
      "Florida GPE\n",
      "October DATE\n",
      "October DATE\n",
      "NXTD ORG\n",
      "American NORP\n",
      "NXTD ORG\n",
      "Company LOC\n",
      "Wocket ORG\n",
      "the Enforcing the Law Using   ORG\n",
      "Kalorama PERSON\n"
     ]
    }
   ],
   "source": [
    "print(\"Named entities in this text are\\n\")\n",
    "for ent in doc.ents: \n",
    "    print(ent.text,ent.label_)"
   ]
  },
  {
   "cell_type": "code",
   "execution_count": 32,
   "metadata": {},
   "outputs": [
    {
     "name": "stdout",
     "output_type": "stream",
     "text": [
      "Nouns: ['organization', 'thread', 'share', 'share', 'share', 'linkedin', 'share', 'facebook', 'share', 'comment', 'stumbledupon', 'share', 'mainimage', 'sitesection', 'httpfeedsbiomedicineorglatestbiologytechnology', 'sectiontitle', 'country', 'title', 'site', 'biomedicineorg', 'participantscount', 'titlefull', 'sitetype', 'news', 'repliescount', 'author', 'httpwwwbiomedicineorgbiologytechnologydunanmicrostaqdmqlaunchesremotecontrolandmonitoringplatformforrefrigerationsystemsonandroidsmartphone', 'ordinthread', 'title', 'location', 'person', 'location', 'organization', 'language', 'person', 'text', 'comment', 'pgnx', 'research', 'industry', 'advancement', 'treatment', 'immunotherapeutic', 'vaccine', 'treatment', 'company', 'clinicalstage', 'immunotherapy', 'company', 'development', 'date', 'datum', 'solution', 'business', 'decade', 'quality', 'management', 'case', 'kidney', 'cancer', 'today', 'enrolment', 'study', 'skin', 'commerce', 'market', 'creator', 'term', 'executive', 'commerce', 'market', 'creator', 'wallet', 'date', 'oct', 'addition', 'addition', 'offering', 'addition', 'glucose', 'report', 'diabetes', 'management', 'segment', 'market', 'glucose', 'publisher', 'market', 'product', 'externallink', 't', 'highlighttitle']\n"
     ]
    }
   ],
   "source": [
    "print(\"Nouns:\", [token.lemma_ for token in doc if token.pos_ == \"NOUN\"])"
   ]
  },
  {
   "cell_type": "code",
   "execution_count": 34,
   "metadata": {},
   "outputs": [
    {
     "ename": "AttributeError",
     "evalue": "'spacy.tokens.token.Token' object has no attribute 'ent'",
     "output_type": "error",
     "traceback": [
      "\u001b[0;31m---------------------------------------------------------------------------\u001b[0m",
      "\u001b[0;31mAttributeError\u001b[0m                            Traceback (most recent call last)",
      "\u001b[0;32m<ipython-input-34-3baaf159ef1c>\u001b[0m in \u001b[0;36m<module>\u001b[0;34m\u001b[0m\n\u001b[0;32m----> 1\u001b[0;31m \u001b[0mprint\u001b[0m\u001b[0;34m(\u001b[0m\u001b[0;34m[\u001b[0m\u001b[0;34m(\u001b[0m\u001b[0mx\u001b[0m\u001b[0;34m,\u001b[0m\u001b[0mx\u001b[0m\u001b[0;34m.\u001b[0m\u001b[0ment\u001b[0m\u001b[0;34m,\u001b[0m\u001b[0m_iob\u001b[0m\u001b[0;34m,\u001b[0m\u001b[0mx\u001b[0m\u001b[0;34m.\u001b[0m\u001b[0ment_type\u001b[0m\u001b[0;34m)\u001b[0m\u001b[0;32mfor\u001b[0m \u001b[0mx\u001b[0m \u001b[0;32min\u001b[0m \u001b[0mdoc\u001b[0m\u001b[0;34m]\u001b[0m\u001b[0;34m)\u001b[0m\u001b[0;34m\u001b[0m\u001b[0;34m\u001b[0m\u001b[0m\n\u001b[0m",
      "\u001b[0;32m<ipython-input-34-3baaf159ef1c>\u001b[0m in \u001b[0;36m<listcomp>\u001b[0;34m(.0)\u001b[0m\n\u001b[0;32m----> 1\u001b[0;31m \u001b[0mprint\u001b[0m\u001b[0;34m(\u001b[0m\u001b[0;34m[\u001b[0m\u001b[0;34m(\u001b[0m\u001b[0mx\u001b[0m\u001b[0;34m,\u001b[0m\u001b[0mx\u001b[0m\u001b[0;34m.\u001b[0m\u001b[0ment\u001b[0m\u001b[0;34m,\u001b[0m\u001b[0m_iob\u001b[0m\u001b[0;34m,\u001b[0m\u001b[0mx\u001b[0m\u001b[0;34m.\u001b[0m\u001b[0ment_type\u001b[0m\u001b[0;34m)\u001b[0m\u001b[0;32mfor\u001b[0m \u001b[0mx\u001b[0m \u001b[0;32min\u001b[0m \u001b[0mdoc\u001b[0m\u001b[0;34m]\u001b[0m\u001b[0;34m)\u001b[0m\u001b[0;34m\u001b[0m\u001b[0;34m\u001b[0m\u001b[0m\n\u001b[0m",
      "\u001b[0;31mAttributeError\u001b[0m: 'spacy.tokens.token.Token' object has no attribute 'ent'"
     ]
    }
   ],
   "source": [
    "print([(x,x.ent,_iob,x.ent_type)for x in doc])"
   ]
  },
  {
   "cell_type": "code",
   "execution_count": 38,
   "metadata": {},
   "outputs": [
    {
     "data": {
      "text/html": [
       "<span class=\"tex2jax_ignore\"><div class=\"entities\" style=\"line-height: 2.5; direction: ltr\">organizations Military Researchers \n",
       "<mark class=\"entity\" style=\"background: #7aecec; padding: 0.45em 0.6em; margin: 0 0.25em; line-height: 1; border-radius: 0.35em;\">\n",
       "    Hutchison China MediTech Limited Clinovo Expands Business Development Team\n",
       "    <span style=\"font-size: 0.8em; font-weight: bold; line-height: 1; border-radius: 0.35em; vertical-align: middle; margin-left: 0.5rem\">ORG</span>\n",
       "</mark>\n",
       " PRCC Progenix Pharmaceuticals Inc Treat \n",
       "<mark class=\"entity\" style=\"background: #aa9cfc; padding: 0.45em 0.6em; margin: 0 0.25em; line-height: 1; border-radius: 0.35em;\">\n",
       "    Complex Burns\n",
       "    <span style=\"font-size: 0.8em; font-weight: bold; line-height: 1; border-radius: 0.35em; vertical-align: middle; margin-left: 0.5rem\">PERSON</span>\n",
       "</mark>\n",
       " and \n",
       "<mark class=\"entity\" style=\"background: #7aecec; padding: 0.45em 0.6em; margin: 0 0.25em; line-height: 1; border-radius: 0.35em;\">\n",
       "    Soft Tissue Injuries\n",
       "    <span style=\"font-size: 0.8em; font-weight: bold; line-height: 1; border-radius: 0.35em; vertical-align: middle; margin-left: 0.5rem\">ORG</span>\n",
       "</mark>\n",
       " Dawson James Small Inc Dawson James Small Cap Growth Conference Avanex Life Sciences Corp uuid bdfabacaedbde thread social gplus shares  pinterest shares  vk shares  linkedin shares  facebook likes  shares  comments  stumbledupon shares  sitefull wwwbiomedicineorg mainimage  sitesection httpfeedsbiomedicineorglatestbiologytechnology sectiontitle \n",
       "<mark class=\"entity\" style=\"background: #7aecec; padding: 0.45em 0.6em; margin: 0 0.25em; line-height: 1; border-radius: 0.35em;\">\n",
       "    Latest Biology Technology\n",
       "    <span style=\"font-size: 0.8em; font-weight: bold; line-height: 1; border-radius: 0.35em; vertical-align: middle; margin-left: 0.5rem\">ORG</span>\n",
       "</mark>\n",
       " from BioMedicineOrg url httpwwwbiomedicineorgbiologytechnologyDunAnMicrostaqDMQLaunchesRemoteControlandMonitoringPlatformforRefrigerationSystemsonAndroidSmartphones country \n",
       "<mark class=\"entity\" style=\"background: #feca74; padding: 0.45em 0.6em; margin: 0 0.25em; line-height: 1; border-radius: 0.35em;\">\n",
       "    US\n",
       "    <span style=\"font-size: 0.8em; font-weight: bold; line-height: 1; border-radius: 0.35em; vertical-align: middle; margin-left: 0.5rem\">GPE</span>\n",
       "</mark>\n",
       " title DunAn Microstaq DMQ Launches Remote Control and Monitoring Platform for Refrigeration Systems on \n",
       "<mark class=\"entity\" style=\"background: #7aecec; padding: 0.45em 0.6em; margin: 0 0.25em; line-height: 1; border-radius: 0.35em;\">\n",
       "    Android Smartphones\n",
       "    <span style=\"font-size: 0.8em; font-weight: bold; line-height: 1; border-radius: 0.35em; vertical-align: middle; margin-left: 0.5rem\">ORG</span>\n",
       "</mark>\n",
       " performancescore  site biomedicineorg participantscount  titlefull DunAn Microstaq DMQ Launches Remote Control and Monitoring Platform for Refrigeration Systems on \n",
       "<mark class=\"entity\" style=\"background: #7aecec; padding: 0.45em 0.6em; margin: 0 0.25em; line-height: 1; border-radius: 0.35em;\">\n",
       "    Android Smartphones\n",
       "    <span style=\"font-size: 0.8em; font-weight: bold; line-height: 1; border-radius: 0.35em; vertical-align: middle; margin-left: 0.5rem\">ORG</span>\n",
       "</mark>\n",
       " spamscore  sitetype news published T repliescount  uuid bdfabacaedbde author  url httpwwwbiomedicineorgbiologytechnologyDunAnMicrostaqDMQLaunchesRemoteControlandMonitoringPlatformforRefrigerationSystemsonAndroidSmartphones ordinthread  title \n",
       "<mark class=\"entity\" style=\"background: #aa9cfc; padding: 0.45em 0.6em; margin: 0 0.25em; line-height: 1; border-radius: 0.35em;\">\n",
       "    DunAn Microstaq\n",
       "    <span style=\"font-size: 0.8em; font-weight: bold; line-height: 1; border-radius: 0.35em; vertical-align: middle; margin-left: 0.5rem\">PERSON</span>\n",
       "</mark>\n",
       " DMQ Launches Remote Control and Monitoring Platform for Refrigeration Systems on \n",
       "<mark class=\"entity\" style=\"background: #7aecec; padding: 0.45em 0.6em; margin: 0 0.25em; line-height: 1; border-radius: 0.35em;\">\n",
       "    Android Smartphones\n",
       "    <span style=\"font-size: 0.8em; font-weight: bold; line-height: 1; border-radius: 0.35em; vertical-align: middle; margin-left: 0.5rem\">ORG</span>\n",
       "</mark>\n",
       " locations \n",
       "<mark class=\"entity\" style=\"background: #7aecec; padding: 0.45em 0.6em; margin: 0 0.25em; line-height: 1; border-radius: 0.35em;\">\n",
       "    United States\n",
       "    <span style=\"font-size: 0.8em; font-weight: bold; line-height: 1; border-radius: 0.35em; vertical-align: middle; margin-left: 0.5rem\">ORG</span>\n",
       "</mark>\n",
       " \n",
       "<mark class=\"entity\" style=\"background: #7aecec; padding: 0.45em 0.6em; margin: 0 0.25em; line-height: 1; border-radius: 0.35em;\">\n",
       "    HCM Canada\n",
       "    <span style=\"font-size: 0.8em; font-weight: bold; line-height: 1; border-radius: 0.35em; vertical-align: middle; margin-left: 0.5rem\">ORG</span>\n",
       "</mark>\n",
       " YORK Europe \n",
       "<mark class=\"entity\" style=\"background: #feca74; padding: 0.45em 0.6em; margin: 0 0.25em; line-height: 1; border-radius: 0.35em;\">\n",
       "    Florida\n",
       "    <span style=\"font-size: 0.8em; font-weight: bold; line-height: 1; border-radius: 0.35em; vertical-align: middle; margin-left: 0.5rem\">GPE</span>\n",
       "</mark>\n",
       " \n",
       "<mark class=\"entity\" style=\"background: #7aecec; padding: 0.45em 0.6em; margin: 0 0.25em; line-height: 1; border-radius: 0.35em;\">\n",
       "    DUBLIN\n",
       "    <span style=\"font-size: 0.8em; font-weight: bold; line-height: 1; border-radius: 0.35em; vertical-align: middle; margin-left: 0.5rem\">ORG</span>\n",
       "</mark>\n",
       " entities persons  locations  organizations  highlightText  language english persons \n",
       "<mark class=\"entity\" style=\"background: #aa9cfc; padding: 0.45em 0.6em; margin: 0 0.25em; line-height: 1; border-radius: 0.35em;\">\n",
       "    Jeff Parr\n",
       "    <span style=\"font-size: 0.8em; font-weight: bold; line-height: 1; border-radius: 0.35em; vertical-align: middle; margin-left: 0.5rem\">PERSON</span>\n",
       "</mark>\n",
       " \n",
       "<mark class=\"entity\" style=\"background: #aa9cfc; padding: 0.45em 0.6em; margin: 0 0.25em; line-height: 1; border-radius: 0.35em;\">\n",
       "    Ed Donaldson\n",
       "    <span style=\"font-size: 0.8em; font-weight: bold; line-height: 1; border-radius: 0.35em; vertical-align: middle; margin-left: 0.5rem\">PERSON</span>\n",
       "</mark>\n",
       " E Washington Hutchison text  Comment  Email Date  \n",
       "<mark class=\"entity\" style=\"background: #bfe1d9; padding: 0.45em 0.6em; margin: 0 0.25em; line-height: 1; border-radius: 0.35em;\">\n",
       "    October\n",
       "    <span style=\"font-size: 0.8em; font-weight: bold; line-height: 1; border-radius: 0.35em; vertical-align: middle; margin-left: 0.5rem\">DATE</span>\n",
       "</mark>\n",
       "   ARRY  \n",
       "<mark class=\"entity\" style=\"background: #aa9cfc; padding: 0.45em 0.6em; margin: 0 0.25em; line-height: 1; border-radius: 0.35em;\">\n",
       "    Inc NASDAQ JUNO\n",
       "    <span style=\"font-size: 0.8em; font-weight: bold; line-height: 1; border-radius: 0.35em; vertical-align: middle; margin-left: 0.5rem\">PERSON</span>\n",
       "</mark>\n",
       "  and \n",
       "<mark class=\"entity\" style=\"background: #7aecec; padding: 0.45em 0.6em; margin: 0 0.25em; line-height: 1; border-radius: 0.35em;\">\n",
       "    Progenix Pharmaceuticals Inc\n",
       "    <span style=\"font-size: 0.8em; font-weight: bold; line-height: 1; border-radius: 0.35em; vertical-align: middle; margin-left: 0.5rem\">ORG</span>\n",
       "</mark>\n",
       "  \n",
       "<mark class=\"entity\" style=\"background: #7aecec; padding: 0.45em 0.6em; margin: 0 0.25em; line-height: 1; border-radius: 0.35em;\">\n",
       "    Avanex Life Sciences Corp\n",
       "    <span style=\"font-size: 0.8em; font-weight: bold; line-height: 1; border-radius: 0.35em; vertical-align: middle; margin-left: 0.5rem\">ORG</span>\n",
       "</mark>\n",
       " OTCQX AVXLD Juno Therapeutics Inc  PGNX   Cooperative research and  industry can potentially lead to advancements in the treatment  Date TapImmune Inc TPIV a  peptide and genebased immunotherapeutics and vaccines for the treatment  presenting company at \n",
       "<mark class=\"entity\" style=\"background: #7aecec; padding: 0.45em 0.6em; margin: 0 0.25em; line-height: 1; border-radius: 0.35em;\">\n",
       "    the Dawson James Small Cap\n",
       "    <span style=\"font-size: 0.8em; font-weight: bold; line-height: 1; border-radius: 0.35em; vertical-align: middle; margin-left: 0.5rem\">ORG</span>\n",
       "</mark>\n",
       "  \n",
       "<mark class=\"entity\" style=\"background: #e4e7d2; padding: 0.45em 0.6em; margin: 0 0.25em; line-height: 1; border-radius: 0.35em;\">\n",
       "    Jupiter\n",
       "    <span style=\"font-size: 0.8em; font-weight: bold; line-height: 1; border-radius: 0.35em; vertical-align: middle; margin-left: 0.5rem\">CARDINAL</span>\n",
       "</mark>\n",
       " \n",
       "<mark class=\"entity\" style=\"background: #feca74; padding: 0.45em 0.6em; margin: 0 0.25em; line-height: 1; border-radius: 0.35em;\">\n",
       "    Florida\n",
       "    <span style=\"font-size: 0.8em; font-weight: bold; line-height: 1; border-radius: 0.35em; vertical-align: middle; margin-left: 0.5rem\">GPE</span>\n",
       "</mark>\n",
       " on \n",
       "<mark class=\"entity\" style=\"background: #bfe1d9; padding: 0.45em 0.6em; margin: 0 0.25em; line-height: 1; border-radius: 0.35em;\">\n",
       "    October\n",
       "    <span style=\"font-size: 0.8em; font-weight: bold; line-height: 1; border-radius: 0.35em; vertical-align: middle; margin-left: 0.5rem\">DATE</span>\n",
       "</mark>\n",
       "   clinicalstage immunotherapy company specializing in the development of innovative  \n",
       "<mark class=\"entity\" style=\"background: #f0d0ff; padding: 0.45em 0.6em; margin: 0 0.25em; line-height: 1; border-radius: 0.35em;\">\n",
       "    Date      Clinovo\n",
       "    <span style=\"font-size: 0.8em; font-weight: bold; line-height: 1; border-radius: 0.35em; vertical-align: middle; margin-left: 0.5rem\">WORK_OF_ART</span>\n",
       "</mark>\n",
       " recently appointed \n",
       "<mark class=\"entity\" style=\"background: #aa9cfc; padding: 0.45em 0.6em; margin: 0 0.25em; line-height: 1; border-radius: 0.35em;\">\n",
       "    Jeff Parr\n",
       "    <span style=\"font-size: 0.8em; font-weight: bold; line-height: 1; border-radius: 0.35em; vertical-align: middle; margin-left: 0.5rem\">PERSON</span>\n",
       "</mark>\n",
       " and \n",
       "<mark class=\"entity\" style=\"background: #aa9cfc; padding: 0.45em 0.6em; margin: 0 0.25em; line-height: 1; border-radius: 0.35em;\">\n",
       "    Ed Donaldson\n",
       "    <span style=\"font-size: 0.8em; font-weight: bold; line-height: 1; border-radius: 0.35em; vertical-align: middle; margin-left: 0.5rem\">PERSON</span>\n",
       "</mark>\n",
       " to  data solutions business  \n",
       "<mark class=\"entity\" style=\"background: #aa9cfc; padding: 0.45em 0.6em; margin: 0 0.25em; line-height: 1; border-radius: 0.35em;\">\n",
       "    Jeff Parr\n",
       "    <span style=\"font-size: 0.8em; font-weight: bold; line-height: 1; border-radius: 0.35em; vertical-align: middle; margin-left: 0.5rem\">PERSON</span>\n",
       "</mark>\n",
       " has spent \n",
       "<mark class=\"entity\" style=\"background: #bfe1d9; padding: 0.45em 0.6em; margin: 0 0.25em; line-height: 1; border-radius: 0.35em;\">\n",
       "    the past decade\n",
       "    <span style=\"font-size: 0.8em; font-weight: bold; line-height: 1; border-radius: 0.35em; vertical-align: middle; margin-left: 0.5rem\">DATE</span>\n",
       "</mark>\n",
       " providing quality management  \n",
       "<mark class=\"entity\" style=\"background: #f0d0ff; padding: 0.45em 0.6em; margin: 0 0.25em; line-height: 1; border-radius: 0.35em;\">\n",
       "    Thermo Fisher\n",
       "    <span style=\"font-size: 0.8em; font-weight: bold; line-height: 1; border-radius: 0.35em; vertical-align: middle; margin-left: 0.5rem\">WORK_OF_ART</span>\n",
       "</mark>\n",
       " and \n",
       "<mark class=\"entity\" style=\"background: #aa9cfc; padding: 0.45em 0.6em; margin: 0 0.25em; line-height: 1; border-radius: 0.35em;\">\n",
       "    Ab Sciex\n",
       "    <span style=\"font-size: 0.8em; font-weight: bold; line-height: 1; border-radius: 0.35em; vertical-align: middle; margin-left: 0.5rem\">PERSON</span>\n",
       "</mark>\n",
       " to name a few He is based in  Date \n",
       "<mark class=\"entity\" style=\"background: #feca74; padding: 0.45em 0.6em; margin: 0 0.25em; line-height: 1; border-radius: 0.35em;\">\n",
       "    the United States\n",
       "    <span style=\"font-size: 0.8em; font-weight: bold; line-height: 1; border-radius: 0.35em; vertical-align: middle; margin-left: 0.5rem\">GPE</span>\n",
       "</mark>\n",
       "  \n",
       "<mark class=\"entity\" style=\"background: #feca74; padding: 0.45em 0.6em; margin: 0 0.25em; line-height: 1; border-radius: 0.35em;\">\n",
       "    Canada\n",
       "    <span style=\"font-size: 0.8em; font-weight: bold; line-height: 1; border-radius: 0.35em; vertical-align: middle; margin-left: 0.5rem\">GPE</span>\n",
       "</mark>\n",
       "   of all new cases of kidney cancer   and \n",
       "<mark class=\"entity\" style=\"background: #ff9561; padding: 0.45em 0.6em; margin: 0 0.25em; line-height: 1; border-radius: 0.35em;\">\n",
       "    Europe\n",
       "    <span style=\"font-size: 0.8em; font-weight: bold; line-height: 1; border-radius: 0.35em; vertical-align: middle; margin-left: 0.5rem\">LOC</span>\n",
       "</mark>\n",
       "  PRCC represents about   \n",
       "<mark class=\"entity\" style=\"background: #7aecec; padding: 0.45em 0.6em; margin: 0 0.25em; line-height: 1; border-radius: 0.35em;\">\n",
       "    Hutchison China MediTech Limited\n",
       "    <span style=\"font-size: 0.8em; font-weight: bold; line-height: 1; border-radius: 0.35em; vertical-align: middle; margin-left: 0.5rem\">ORG</span>\n",
       "</mark>\n",
       " ChiMed AIM HCM \n",
       "<mark class=\"entity\" style=\"background: #bfe1d9; padding: 0.45em 0.6em; margin: 0 0.25em; line-height: 1; border-radius: 0.35em;\">\n",
       "    today\n",
       "    <span style=\"font-size: 0.8em; font-weight: bold; line-height: 1; border-radius: 0.35em; vertical-align: middle; margin-left: 0.5rem\">DATE</span>\n",
       "</mark>\n",
       " announces that \n",
       "<mark class=\"entity\" style=\"background: #aa9cfc; padding: 0.45em 0.6em; margin: 0 0.25em; line-height: 1; border-radius: 0.35em;\">\n",
       "    Hutchison\n",
       "    <span style=\"font-size: 0.8em; font-weight: bold; line-height: 1; border-radius: 0.35em; vertical-align: middle; margin-left: 0.5rem\">PERSON</span>\n",
       "</mark>\n",
       "  \n",
       "<mark class=\"entity\" style=\"background: #7aecec; padding: 0.45em 0.6em; margin: 0 0.25em; line-height: 1; border-radius: 0.35em;\">\n",
       "    AstraZeneca\n",
       "    <span style=\"font-size: 0.8em; font-weight: bold; line-height: 1; border-radius: 0.35em; vertical-align: middle; margin-left: 0.5rem\">ORG</span>\n",
       "</mark>\n",
       " have completed enrolment in a global \n",
       "<mark class=\"entity\" style=\"background: #7aecec; padding: 0.45em 0.6em; margin: 0 0.25em; line-height: 1; border-radius: 0.35em;\">\n",
       "    Phase II\n",
       "    <span style=\"font-size: 0.8em; font-weight: bold; line-height: 1; border-radius: 0.35em; vertical-align: middle; margin-left: 0.5rem\">ORG</span>\n",
       "</mark>\n",
       " study of     Military Researchers to Conduct Clinical Study of a Skin Substitute Using a \n",
       "<mark class=\"entity\" style=\"background: #7aecec; padding: 0.45em 0.6em; margin: 0 0.25em; line-height: 1; border-radius: 0.35em;\">\n",
       "    Patients Own Cells\n",
       "    <span style=\"font-size: 0.8em; font-weight: bold; line-height: 1; border-radius: 0.35em; vertical-align: middle; margin-left: 0.5rem\">ORG</span>\n",
       "</mark>\n",
       " to Treat \n",
       "<mark class=\"entity\" style=\"background: #aa9cfc; padding: 0.45em 0.6em; margin: 0 0.25em; line-height: 1; border-radius: 0.35em;\">\n",
       "    Complex Burns\n",
       "    <span style=\"font-size: 0.8em; font-weight: bold; line-height: 1; border-radius: 0.35em; vertical-align: middle; margin-left: 0.5rem\">PERSON</span>\n",
       "</mark>\n",
       " and \n",
       "<mark class=\"entity\" style=\"background: #7aecec; padding: 0.45em 0.6em; margin: 0 0.25em; line-height: 1; border-radius: 0.35em;\">\n",
       "    Soft Tissue Injuries\n",
       "    <span style=\"font-size: 0.8em; font-weight: bold; line-height: 1; border-radius: 0.35em; vertical-align: middle; margin-left: 0.5rem\">ORG</span>\n",
       "</mark>\n",
       "    TapImmune to Present at \n",
       "<mark class=\"entity\" style=\"background: #7aecec; padding: 0.45em 0.6em; margin: 0 0.25em; line-height: 1; border-radius: 0.35em;\">\n",
       "    Dawson James Small Cap Growth Conference\n",
       "    <span style=\"font-size: 0.8em; font-weight: bold; line-height: 1; border-radius: 0.35em; vertical-align: middle; margin-left: 0.5rem\">ORG</span>\n",
       "</mark>\n",
       " in \n",
       "<mark class=\"entity\" style=\"background: #feca74; padding: 0.45em 0.6em; margin: 0 0.25em; line-height: 1; border-radius: 0.35em;\">\n",
       "    Florida\n",
       "    <span style=\"font-size: 0.8em; font-weight: bold; line-height: 1; border-radius: 0.35em; vertical-align: middle; margin-left: 0.5rem\">GPE</span>\n",
       "</mark>\n",
       " on \n",
       "<mark class=\"entity\" style=\"background: #bfe1d9; padding: 0.45em 0.6em; margin: 0 0.25em; line-height: 1; border-radius: 0.35em;\">\n",
       "    October\n",
       "    <span style=\"font-size: 0.8em; font-weight: bold; line-height: 1; border-radius: 0.35em; vertical-align: middle; margin-left: 0.5rem\">DATE</span>\n",
       "</mark>\n",
       "      Clinovo Expands Business Development Team    Savolitinib Completes Enrolment for Phase II Clinical Trial in Papillary Renal Cell Carcinoma Date  \n",
       "<mark class=\"entity\" style=\"background: #bfe1d9; padding: 0.45em 0.6em; margin: 0 0.25em; line-height: 1; border-radius: 0.35em;\">\n",
       "    October\n",
       "    <span style=\"font-size: 0.8em; font-weight: bold; line-height: 1; border-radius: 0.35em; vertical-align: middle; margin-left: 0.5rem\">DATE</span>\n",
       "</mark>\n",
       "   \n",
       "<mark class=\"entity\" style=\"background: #7aecec; padding: 0.45em 0.6em; margin: 0 0.25em; line-height: 1; border-radius: 0.35em;\">\n",
       "    NXTD\n",
       "    <span style=\"font-size: 0.8em; font-weight: bold; line-height: 1; border-radius: 0.35em; vertical-align: middle; margin-left: 0.5rem\">ORG</span>\n",
       "</mark>\n",
       "  focused on the growing mobile commerce market and creator  E Washington  former long term executive at \n",
       "<mark class=\"entity\" style=\"background: #c887fb; padding: 0.45em 0.6em; margin: 0 0.25em; line-height: 1; border-radius: 0.35em;\">\n",
       "    American\n",
       "    <span style=\"font-size: 0.8em; font-weight: bold; line-height: 1; border-radius: 0.35em; vertical-align: middle; margin-left: 0.5rem\">NORP</span>\n",
       "</mark>\n",
       "   \n",
       "<mark class=\"entity\" style=\"background: #7aecec; padding: 0.45em 0.6em; margin: 0 0.25em; line-height: 1; border-radius: 0.35em;\">\n",
       "    NXTD\n",
       "    <span style=\"font-size: 0.8em; font-weight: bold; line-height: 1; border-radius: 0.35em; vertical-align: middle; margin-left: 0.5rem\">ORG</span>\n",
       "</mark>\n",
       "  NXTID or the \n",
       "<mark class=\"entity\" style=\"background: #ff9561; padding: 0.45em 0.6em; margin: 0 0.25em; line-height: 1; border-radius: 0.35em;\">\n",
       "    Company\n",
       "    <span style=\"font-size: 0.8em; font-weight: bold; line-height: 1; border-radius: 0.35em; vertical-align: middle; margin-left: 0.5rem\">LOC</span>\n",
       "</mark>\n",
       "  commerce market and creator of the \n",
       "<mark class=\"entity\" style=\"background: #7aecec; padding: 0.45em 0.6em; margin: 0 0.25em; line-height: 1; border-radius: 0.35em;\">\n",
       "    Wocket\n",
       "    <span style=\"font-size: 0.8em; font-weight: bold; line-height: 1; border-radius: 0.35em; vertical-align: middle; margin-left: 0.5rem\">ORG</span>\n",
       "</mark>\n",
       " smart wallet  Date DUBLIN  Oct    addition of \n",
       "<mark class=\"entity\" style=\"background: #7aecec; padding: 0.45em 0.6em; margin: 0 0.25em; line-height: 1; border-radius: 0.35em;\">\n",
       "    the Enforcing the Law Using  \n",
       "    <span style=\"font-size: 0.8em; font-weight: bold; line-height: 1; border-radius: 0.35em; vertical-align: middle; margin-left: 0.5rem\">ORG</span>\n",
       "</mark>\n",
       "httpwwwresearchandmarketscomresearchkpmxenforcingthelaw  has announced the addition of  report to their offering  Research  addition of the Enforcing the Law Using  Date YORK  Sept   The global glucose  billion for  So says a new report on the  diabetes management segment dominate the market followed by continuous glucose  publisher \n",
       "<mark class=\"entity\" style=\"background: #aa9cfc; padding: 0.45em 0.6em; margin: 0 0.25em; line-height: 1; border-radius: 0.35em;\">\n",
       "    Kalorama\n",
       "    <span style=\"font-size: 0.8em; font-weight: bold; line-height: 1; border-radius: 0.35em; vertical-align: middle; margin-left: 0.5rem\">PERSON</span>\n",
       "</mark>\n",
       " reports on the market for these products in its   externallinks  published T crawled T highlightTitle </div></span>"
      ],
      "text/plain": [
       "<IPython.core.display.HTML object>"
      ]
     },
     "metadata": {},
     "output_type": "display_data"
    }
   ],
   "source": [
    "from spacy import displacy\n",
    "displacy.render(nlp(sent), style='ent', jupyter=True)"
   ]
  },
  {
   "cell_type": "code",
   "execution_count": null,
   "metadata": {},
   "outputs": [],
   "source": []
  }
 ],
 "metadata": {
  "kernelspec": {
   "display_name": "Python 3",
   "language": "python",
   "name": "python3"
  },
  "language_info": {
   "codemirror_mode": {
    "name": "ipython",
    "version": 3
   },
   "file_extension": ".py",
   "mimetype": "text/x-python",
   "name": "python",
   "nbconvert_exporter": "python",
   "pygments_lexer": "ipython3",
   "version": "3.7.6"
  }
 },
 "nbformat": 4,
 "nbformat_minor": 4
}
